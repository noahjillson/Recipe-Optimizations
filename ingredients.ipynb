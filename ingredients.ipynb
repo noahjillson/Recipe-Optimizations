{
 "cells": [
  {
   "cell_type": "code",
   "execution_count": 157,
   "metadata": {},
   "outputs": [],
   "source": [
    "import json\n",
    "\n",
    "with open('series_data.json', \"r\") as file:\n",
    "    data = json.load(file)"
   ]
  },
  {
   "cell_type": "code",
   "execution_count": 158,
   "metadata": {},
   "outputs": [
    {
     "name": "stdout",
     "output_type": "stream",
     "text": [
      "Bureau API Key: 33091382135543188d76877099f635be\n"
     ]
    }
   ],
   "source": [
    "from dotenv import load_dotenv\n",
    "import os\n",
    "\n",
    "# Load environment variables from the .env file\n",
    "load_dotenv()\n",
    "\n",
    "# Access the API key\n",
    "bureau_api_key = os.getenv(\"BUREAU_API_KEY\")\n",
    "\n",
    "if bureau_api_key:\n",
    "    print(f\"Bureau API Key: {bureau_api_key}\")"
   ]
  },
  {
   "cell_type": "code",
   "execution_count": 159,
   "metadata": {},
   "outputs": [],
   "source": [
    "import pandas as pd\n",
    "import requests\n",
    "import json\n",
    "\n",
    "\n",
    "def get_timeseries(series_id):\n",
    "    errors = []\n",
    "    url = \"https://api.bls.gov/publicAPI/v2/timeseries/data/\"\n",
    "\n",
    "    # API key (register at https://data.bls.gov/registrationEngine/ to get one)\n",
    "    api_key = \"\"\n",
    "\n",
    "    # Request payload\n",
    "    payload = {\n",
    "        \"seriesid\": [f'{series_id}'],  # Series ID to request\n",
    "        \"startyear\": \"2010\",           # Start year for the data\n",
    "        \"endyear\": \"2024\",             # End year for the data\n",
    "        \"registrationkey\": bureau_api_key    # Your API key\n",
    "    }\n",
    "\n",
    "    # Make the API request\n",
    "    response = requests.post(url, data=json.dumps(payload), headers={\"Content-Type\": \"application/json\"})\n",
    "\n",
    "    if response.status_code == 200:\n",
    "        # try:\n",
    "        response = response.json()    \n",
    "        df = pd.DataFrame(response['Results']['series'][0])\n",
    "        df = pd.json_normalize(df['data'])\n",
    "        df['series_id'] = series_id\n",
    "        df['ingredient'] = data[series_id]['name']\n",
    "        df['metric'] = data[series_id]['metric']\n",
    "        # except Exception as e:\n",
    "        #     return response\n",
    "    return df"
   ]
  },
  {
   "cell_type": "code",
   "execution_count": 161,
   "metadata": {},
   "outputs": [
    {
     "ename": "KeyError",
     "evalue": "'name'",
     "output_type": "error",
     "traceback": [
      "\u001b[0;31m---------------------------------------------------------------------------\u001b[0m",
      "\u001b[0;31mKeyError\u001b[0m                                  Traceback (most recent call last)",
      "Cell \u001b[0;32mIn[161], line 4\u001b[0m\n\u001b[1;32m      1\u001b[0m dfs \u001b[38;5;241m=\u001b[39m []\n\u001b[1;32m      3\u001b[0m \u001b[38;5;28;01mfor\u001b[39;00m series_id \u001b[38;5;129;01min\u001b[39;00m data\u001b[38;5;241m.\u001b[39mkeys():\n\u001b[0;32m----> 4\u001b[0m     data \u001b[38;5;241m=\u001b[39m get_timeseries(\u001b[38;5;28mstr\u001b[39m(series_id))\n\u001b[1;32m      5\u001b[0m     \u001b[38;5;28;01mif\u001b[39;00m \u001b[38;5;28mtype\u001b[39m(data) \u001b[38;5;241m!=\u001b[39m pd\u001b[38;5;241m.\u001b[39mDataFrame:\n\u001b[1;32m      6\u001b[0m         \u001b[38;5;28mprint\u001b[39m(data)\n",
      "Cell \u001b[0;32mIn[159], line 30\u001b[0m, in \u001b[0;36mget_timeseries\u001b[0;34m(series_id)\u001b[0m\n\u001b[1;32m     28\u001b[0m df \u001b[38;5;241m=\u001b[39m pd\u001b[38;5;241m.\u001b[39mjson_normalize(df[\u001b[38;5;124m'\u001b[39m\u001b[38;5;124mdata\u001b[39m\u001b[38;5;124m'\u001b[39m])\n\u001b[1;32m     29\u001b[0m df[\u001b[38;5;124m'\u001b[39m\u001b[38;5;124mseries_id\u001b[39m\u001b[38;5;124m'\u001b[39m] \u001b[38;5;241m=\u001b[39m series_id\n\u001b[0;32m---> 30\u001b[0m df[\u001b[38;5;124m'\u001b[39m\u001b[38;5;124mingredient\u001b[39m\u001b[38;5;124m'\u001b[39m] \u001b[38;5;241m=\u001b[39m data[series_id][\u001b[38;5;124m'\u001b[39m\u001b[38;5;124mname\u001b[39m\u001b[38;5;124m'\u001b[39m]\n\u001b[1;32m     31\u001b[0m df[\u001b[38;5;124m'\u001b[39m\u001b[38;5;124mmetric\u001b[39m\u001b[38;5;124m'\u001b[39m] \u001b[38;5;241m=\u001b[39m data[series_id][\u001b[38;5;124m'\u001b[39m\u001b[38;5;124mmetric\u001b[39m\u001b[38;5;124m'\u001b[39m]\n\u001b[1;32m     32\u001b[0m \u001b[38;5;66;03m# except Exception as e:\u001b[39;00m\n\u001b[1;32m     33\u001b[0m \u001b[38;5;66;03m#     return response\u001b[39;00m\n",
      "File \u001b[0;32m~/anaconda3/lib/python3.11/site-packages/pandas/core/series.py:1121\u001b[0m, in \u001b[0;36mSeries.__getitem__\u001b[0;34m(self, key)\u001b[0m\n\u001b[1;32m   1118\u001b[0m     \u001b[38;5;28;01mreturn\u001b[39;00m \u001b[38;5;28mself\u001b[39m\u001b[38;5;241m.\u001b[39m_values[key]\n\u001b[1;32m   1120\u001b[0m \u001b[38;5;28;01melif\u001b[39;00m key_is_scalar:\n\u001b[0;32m-> 1121\u001b[0m     \u001b[38;5;28;01mreturn\u001b[39;00m \u001b[38;5;28mself\u001b[39m\u001b[38;5;241m.\u001b[39m_get_value(key)\n\u001b[1;32m   1123\u001b[0m \u001b[38;5;66;03m# Convert generator to list before going through hashable part\u001b[39;00m\n\u001b[1;32m   1124\u001b[0m \u001b[38;5;66;03m# (We will iterate through the generator there to check for slices)\u001b[39;00m\n\u001b[1;32m   1125\u001b[0m \u001b[38;5;28;01mif\u001b[39;00m is_iterator(key):\n",
      "File \u001b[0;32m~/anaconda3/lib/python3.11/site-packages/pandas/core/series.py:1237\u001b[0m, in \u001b[0;36mSeries._get_value\u001b[0;34m(self, label, takeable)\u001b[0m\n\u001b[1;32m   1234\u001b[0m     \u001b[38;5;28;01mreturn\u001b[39;00m \u001b[38;5;28mself\u001b[39m\u001b[38;5;241m.\u001b[39m_values[label]\n\u001b[1;32m   1236\u001b[0m \u001b[38;5;66;03m# Similar to Index.get_value, but we do not fall back to positional\u001b[39;00m\n\u001b[0;32m-> 1237\u001b[0m loc \u001b[38;5;241m=\u001b[39m \u001b[38;5;28mself\u001b[39m\u001b[38;5;241m.\u001b[39mindex\u001b[38;5;241m.\u001b[39mget_loc(label)\n\u001b[1;32m   1239\u001b[0m \u001b[38;5;28;01mif\u001b[39;00m is_integer(loc):\n\u001b[1;32m   1240\u001b[0m     \u001b[38;5;28;01mreturn\u001b[39;00m \u001b[38;5;28mself\u001b[39m\u001b[38;5;241m.\u001b[39m_values[loc]\n",
      "File \u001b[0;32m~/anaconda3/lib/python3.11/site-packages/pandas/core/indexes/range.py:417\u001b[0m, in \u001b[0;36mRangeIndex.get_loc\u001b[0;34m(self, key)\u001b[0m\n\u001b[1;32m    415\u001b[0m         \u001b[38;5;28;01mraise\u001b[39;00m \u001b[38;5;167;01mKeyError\u001b[39;00m(key) \u001b[38;5;28;01mfrom\u001b[39;00m \u001b[38;5;21;01merr\u001b[39;00m\n\u001b[1;32m    416\u001b[0m \u001b[38;5;28;01mif\u001b[39;00m \u001b[38;5;28misinstance\u001b[39m(key, Hashable):\n\u001b[0;32m--> 417\u001b[0m     \u001b[38;5;28;01mraise\u001b[39;00m \u001b[38;5;167;01mKeyError\u001b[39;00m(key)\n\u001b[1;32m    418\u001b[0m \u001b[38;5;28mself\u001b[39m\u001b[38;5;241m.\u001b[39m_check_indexing_error(key)\n\u001b[1;32m    419\u001b[0m \u001b[38;5;28;01mraise\u001b[39;00m \u001b[38;5;167;01mKeyError\u001b[39;00m(key)\n",
      "\u001b[0;31mKeyError\u001b[0m: 'name'"
     ]
    }
   ],
   "source": [
    "dfs = []\n",
    "\n",
    "for series_id in data.keys():\n",
    "    data = get_timeseries(str(series_id))\n",
    "    if type(data) != pd.DataFrame:\n",
    "        print(data)\n",
    "    else:\n",
    "        dfs.append(data)\n",
    "\n",
    "all_ingredients_data = pd.concat(dfs)\n",
    "all_ingredients_data = all_ingredients_data.drop('footnotes', axis = 1)\n",
    "res = all_ingredients_data.pivot(index = ['series_id', 'ingredient', 'metric'], columns=['year', 'periodName'], values='value')\n",
    "prices_2011 = res['2011'].reset_index()\n",
    "prices_2011.to_csv('./ingredients_1.csv')"
   ]
  },
  {
   "cell_type": "code",
   "execution_count": 2,
   "metadata": {},
   "outputs": [
    {
     "ename": "KeyError",
     "evalue": "\"['June'] not in index\"",
     "output_type": "error",
     "traceback": [
      "\u001b[0;31m---------------------------------------------------------------------------\u001b[0m",
      "\u001b[0;31mKeyError\u001b[0m                                  Traceback (most recent call last)",
      "Cell \u001b[0;32mIn[2], line 5\u001b[0m\n\u001b[1;32m      1\u001b[0m \u001b[38;5;28;01mimport\u001b[39;00m \u001b[38;5;21;01mpandas\u001b[39;00m \u001b[38;5;28;01mas\u001b[39;00m \u001b[38;5;21;01mpd\u001b[39;00m\n\u001b[1;32m      3\u001b[0m mega_df \u001b[38;5;241m=\u001b[39m pd\u001b[38;5;241m.\u001b[39mread_csv(\u001b[38;5;124m'\u001b[39m\u001b[38;5;124m./ingredients.csv\u001b[39m\u001b[38;5;124m'\u001b[39m)\n\u001b[0;32m----> 5\u001b[0m analyze_data \u001b[38;5;241m=\u001b[39m mega_df[[\u001b[38;5;124m'\u001b[39m\u001b[38;5;124mJune\u001b[39m\u001b[38;5;124m'\u001b[39m, \u001b[38;5;124m'\u001b[39m\u001b[38;5;124mingredient\u001b[39m\u001b[38;5;124m'\u001b[39m, \u001b[38;5;124m'\u001b[39m\u001b[38;5;124mmetric\u001b[39m\u001b[38;5;124m'\u001b[39m]]\n\u001b[1;32m      6\u001b[0m analyze_data \u001b[38;5;241m=\u001b[39m analyze_data\u001b[38;5;241m.\u001b[39mdropna()\n\u001b[1;32m      7\u001b[0m analyze_data[\u001b[38;5;124m'\u001b[39m\u001b[38;5;124mingredient\u001b[39m\u001b[38;5;124m'\u001b[39m] \u001b[38;5;241m=\u001b[39m analyze_data[\u001b[38;5;124m'\u001b[39m\u001b[38;5;124mingredient\u001b[39m\u001b[38;5;124m'\u001b[39m]\u001b[38;5;241m.\u001b[39mstr\u001b[38;5;241m.\u001b[39mlower()\n",
      "File \u001b[0;32m~/anaconda3/lib/python3.11/site-packages/pandas/core/frame.py:4108\u001b[0m, in \u001b[0;36mDataFrame.__getitem__\u001b[0;34m(self, key)\u001b[0m\n\u001b[1;32m   4106\u001b[0m     \u001b[38;5;28;01mif\u001b[39;00m is_iterator(key):\n\u001b[1;32m   4107\u001b[0m         key \u001b[38;5;241m=\u001b[39m \u001b[38;5;28mlist\u001b[39m(key)\n\u001b[0;32m-> 4108\u001b[0m     indexer \u001b[38;5;241m=\u001b[39m \u001b[38;5;28mself\u001b[39m\u001b[38;5;241m.\u001b[39mcolumns\u001b[38;5;241m.\u001b[39m_get_indexer_strict(key, \u001b[38;5;124m\"\u001b[39m\u001b[38;5;124mcolumns\u001b[39m\u001b[38;5;124m\"\u001b[39m)[\u001b[38;5;241m1\u001b[39m]\n\u001b[1;32m   4110\u001b[0m \u001b[38;5;66;03m# take() does not accept boolean indexers\u001b[39;00m\n\u001b[1;32m   4111\u001b[0m \u001b[38;5;28;01mif\u001b[39;00m \u001b[38;5;28mgetattr\u001b[39m(indexer, \u001b[38;5;124m\"\u001b[39m\u001b[38;5;124mdtype\u001b[39m\u001b[38;5;124m\"\u001b[39m, \u001b[38;5;28;01mNone\u001b[39;00m) \u001b[38;5;241m==\u001b[39m \u001b[38;5;28mbool\u001b[39m:\n",
      "File \u001b[0;32m~/anaconda3/lib/python3.11/site-packages/pandas/core/indexes/base.py:6200\u001b[0m, in \u001b[0;36mIndex._get_indexer_strict\u001b[0;34m(self, key, axis_name)\u001b[0m\n\u001b[1;32m   6197\u001b[0m \u001b[38;5;28;01melse\u001b[39;00m:\n\u001b[1;32m   6198\u001b[0m     keyarr, indexer, new_indexer \u001b[38;5;241m=\u001b[39m \u001b[38;5;28mself\u001b[39m\u001b[38;5;241m.\u001b[39m_reindex_non_unique(keyarr)\n\u001b[0;32m-> 6200\u001b[0m \u001b[38;5;28mself\u001b[39m\u001b[38;5;241m.\u001b[39m_raise_if_missing(keyarr, indexer, axis_name)\n\u001b[1;32m   6202\u001b[0m keyarr \u001b[38;5;241m=\u001b[39m \u001b[38;5;28mself\u001b[39m\u001b[38;5;241m.\u001b[39mtake(indexer)\n\u001b[1;32m   6203\u001b[0m \u001b[38;5;28;01mif\u001b[39;00m \u001b[38;5;28misinstance\u001b[39m(key, Index):\n\u001b[1;32m   6204\u001b[0m     \u001b[38;5;66;03m# GH 42790 - Preserve name from an Index\u001b[39;00m\n",
      "File \u001b[0;32m~/anaconda3/lib/python3.11/site-packages/pandas/core/indexes/base.py:6252\u001b[0m, in \u001b[0;36mIndex._raise_if_missing\u001b[0;34m(self, key, indexer, axis_name)\u001b[0m\n\u001b[1;32m   6249\u001b[0m     \u001b[38;5;28;01mraise\u001b[39;00m \u001b[38;5;167;01mKeyError\u001b[39;00m(\u001b[38;5;124mf\u001b[39m\u001b[38;5;124m\"\u001b[39m\u001b[38;5;124mNone of [\u001b[39m\u001b[38;5;132;01m{\u001b[39;00mkey\u001b[38;5;132;01m}\u001b[39;00m\u001b[38;5;124m] are in the [\u001b[39m\u001b[38;5;132;01m{\u001b[39;00maxis_name\u001b[38;5;132;01m}\u001b[39;00m\u001b[38;5;124m]\u001b[39m\u001b[38;5;124m\"\u001b[39m)\n\u001b[1;32m   6251\u001b[0m not_found \u001b[38;5;241m=\u001b[39m \u001b[38;5;28mlist\u001b[39m(ensure_index(key)[missing_mask\u001b[38;5;241m.\u001b[39mnonzero()[\u001b[38;5;241m0\u001b[39m]]\u001b[38;5;241m.\u001b[39munique())\n\u001b[0;32m-> 6252\u001b[0m \u001b[38;5;28;01mraise\u001b[39;00m \u001b[38;5;167;01mKeyError\u001b[39;00m(\u001b[38;5;124mf\u001b[39m\u001b[38;5;124m\"\u001b[39m\u001b[38;5;132;01m{\u001b[39;00mnot_found\u001b[38;5;132;01m}\u001b[39;00m\u001b[38;5;124m not in index\u001b[39m\u001b[38;5;124m\"\u001b[39m)\n",
      "\u001b[0;31mKeyError\u001b[0m: \"['June'] not in index\""
     ]
    }
   ],
   "source": [
    "import pandas as pd\n",
    "\n",
    "mega_df = pd.read_csv('./ingredients.csv')\n",
    "\n",
    "analyze_data = mega_df[['June', 'ingredient', 'metric']]\n",
    "analyze_data = analyze_data.dropna()\n",
    "analyze_data['ingredient'] = analyze_data['ingredient'].str.lower()\n",
    "analyze_data = analyze_data.rename({'June' : 'price'}, axis = 1)"
   ]
  },
  {
   "cell_type": "markdown",
   "metadata": {},
   "source": [
    "## Adding more data"
   ]
  },
  {
   "cell_type": "code",
   "execution_count": 44,
   "metadata": {},
   "outputs": [],
   "source": [
    "spices = {\n",
    "    \"ingredient\": [\n",
    "        \"salt\", \"pepper\", \"cinnamon\", \"paprika\", \"garlic powder\", \"onion powder\",\n",
    "        \"turmeric\", \"ginger\", \"cumin\", \"oregano\", \"basil\", \"thyme\", \"parsley\",\n",
    "        \"nutmeg\", \"cloves\"\n",
    "    ],\n",
    "    \"price\": [\n",
    "        2.50, 4.00, 5.00, 3.50, 4.50, 4.25, 6.00, 5.50, 4.75, 3.75,\n",
    "        3.25, 3.75, 3.00, 6.50, 7.00\n",
    "    ],\n",
    "    \"metric\": [\n",
    "        \"oz\", \"oz\", \"oz\", \"oz\", \"oz\", \"oz\", \"oz\", \"oz\", \"oz\", \"oz\",\n",
    "        \"oz\", \"oz\", \"oz\", \"oz\", \"oz\"\n",
    "    ]\n",
    "}\n",
    "df_spices = pd.DataFrame(data=spices)\n",
    "data_with_spices = pd.concat([analyze_data, df_spices]).drop_duplicates()"
   ]
  },
  {
   "cell_type": "code",
   "execution_count": 10,
   "metadata": {},
   "outputs": [],
   "source": [
    "analyze_data = pd.read_csv('./ingredients_refines.csv')"
   ]
  },
  {
   "cell_type": "code",
   "execution_count": 11,
   "metadata": {},
   "outputs": [],
   "source": [
    "ingredient_prices = {\n",
    "    'ingredient': [\n",
    "        'lemon', 'cream', 'yogurt', 'vanilla', 'shrimp', \n",
    "        'cilantro', 'jalapeno', 'parsley', 'vinegar', 'tortillas', \n",
    "        'red pepper', 'fish', 'avocado', 'lime', 'chicken stock', \n",
    "        'parmesan', 'vegetable stock', 'beef stock', 'garam masala', \n",
    "        'spinach', 'soy sauce'\n",
    "    ],\n",
    "    'price': [\n",
    "        0.99, 15.96, 4.46, 111.84, 12.99, \n",
    "        4.33, 1.15, 4.97, 1.24, 4.78, \n",
    "        1.50, 9.99, 2.58, 2.00, 0.70, \n",
    "        4.99, 0.70, 0.70, 79.88, \n",
    "        2.99, 1.49\n",
    "    ],\n",
    "    'metric': [\n",
    "        'lb', 'lb', 'lb', 'lb', 'lb', \n",
    "        'lb', 'lb', 'lb', 'lb', 'lb', \n",
    "        'lb', 'lb', 'lb', 'lb', 'lb', \n",
    "        'lb', 'lb', 'lb', 'lb', \n",
    "        'lb', 'lb'\n",
    "    ]\n",
    "}\n",
    "\n",
    "more_items = pd.DataFrame(ingredient_prices)\n",
    "analyze_data_2 = pd.concat([more_items, analyze_data])\n",
    "analyze_data_2 = analyze_data_2.drop_duplicates().drop('Unnamed: 0', axis = 1)\n",
    "analyze_data_2.to_csv('./ingredients_refined.csv')\n",
    "\n",
    "ingredient_prices = {\n",
    "    'ingredient': [\n",
    "        'tomatoes', 'black pepper', 'chili', 'coriander', 'jalapenos', \n",
    "        'mango', 'oil', 'olives', 'onions', 'peppers', 'pork loin'\n",
    "    ],\n",
    "    'price': [\n",
    "        1.99,   # tomatoes: average grocery store price\n",
    "        18.99,  # black pepper: ground, converted from per oz\n",
    "        2.50,   # chili peppers: fresh, average price\n",
    "        12.99,  # coriander seeds: converted from per oz\n",
    "        1.25,   # jalapenos: estimated per lb\n",
    "        1.50,   # mango: average price per fruit converted to per lb\n",
    "        4.99,   # cooking oil: converted from per bottle\n",
    "        5.99,   # olives: converted from per jar\n",
    "        1.29,   # onions: typical grocery price\n",
    "        2.49,   # mixed peppers: average price\n",
    "        6.99    # pork loin: typical per lb price\n",
    "    ],\n",
    "    'metric': [\n",
    "        'lb', 'oz', 'each', 'oz', 'each', \n",
    "        'each', 'bottle', 'jar', 'lb', 'lb', \n",
    "        'lb'\n",
    "    ]\n",
    "}\n",
    "\n",
    "df_ingredients_two = pd.DataFrame(ingredient_prices)\n",
    "df = pd.concat([analyze_data_2, df_ingredients_two])\n",
    "df['ingredient'] = df['ingredient'].str.strip()"
   ]
  },
  {
   "cell_type": "code",
   "execution_count": 19,
   "metadata": {},
   "outputs": [
    {
     "data": {
      "text/html": [
       "<div>\n",
       "<style scoped>\n",
       "    .dataframe tbody tr th:only-of-type {\n",
       "        vertical-align: middle;\n",
       "    }\n",
       "\n",
       "    .dataframe tbody tr th {\n",
       "        vertical-align: top;\n",
       "    }\n",
       "\n",
       "    .dataframe thead th {\n",
       "        text-align: right;\n",
       "    }\n",
       "</style>\n",
       "<table border=\"1\" class=\"dataframe\">\n",
       "  <thead>\n",
       "    <tr style=\"text-align: right;\">\n",
       "      <th></th>\n",
       "      <th>ingredient</th>\n",
       "      <th>price</th>\n",
       "      <th>metric</th>\n",
       "    </tr>\n",
       "  </thead>\n",
       "  <tbody>\n",
       "    <tr>\n",
       "      <th>0</th>\n",
       "      <td>lemon</td>\n",
       "      <td>0.99</td>\n",
       "      <td>lb</td>\n",
       "    </tr>\n",
       "    <tr>\n",
       "      <th>1</th>\n",
       "      <td>cream</td>\n",
       "      <td>15.96</td>\n",
       "      <td>lb</td>\n",
       "    </tr>\n",
       "    <tr>\n",
       "      <th>2</th>\n",
       "      <td>yogurt</td>\n",
       "      <td>4.46</td>\n",
       "      <td>lb</td>\n",
       "    </tr>\n",
       "    <tr>\n",
       "      <th>3</th>\n",
       "      <td>vanilla</td>\n",
       "      <td>111.84</td>\n",
       "      <td>lb</td>\n",
       "    </tr>\n",
       "    <tr>\n",
       "      <th>4</th>\n",
       "      <td>shrimp</td>\n",
       "      <td>12.99</td>\n",
       "      <td>lb</td>\n",
       "    </tr>\n",
       "    <tr>\n",
       "      <th>...</th>\n",
       "      <td>...</td>\n",
       "      <td>...</td>\n",
       "      <td>...</td>\n",
       "    </tr>\n",
       "    <tr>\n",
       "      <th>74</th>\n",
       "      <td>basil</td>\n",
       "      <td>3.25</td>\n",
       "      <td>oz</td>\n",
       "    </tr>\n",
       "    <tr>\n",
       "      <th>75</th>\n",
       "      <td>thyme</td>\n",
       "      <td>3.75</td>\n",
       "      <td>oz</td>\n",
       "    </tr>\n",
       "    <tr>\n",
       "      <th>76</th>\n",
       "      <td>parsley</td>\n",
       "      <td>3.00</td>\n",
       "      <td>oz</td>\n",
       "    </tr>\n",
       "    <tr>\n",
       "      <th>77</th>\n",
       "      <td>nutmeg</td>\n",
       "      <td>6.50</td>\n",
       "      <td>oz</td>\n",
       "    </tr>\n",
       "    <tr>\n",
       "      <th>78</th>\n",
       "      <td>cloves</td>\n",
       "      <td>7.00</td>\n",
       "      <td>oz</td>\n",
       "    </tr>\n",
       "  </tbody>\n",
       "</table>\n",
       "<p>100 rows × 3 columns</p>\n",
       "</div>"
      ],
      "text/plain": [
       "   ingredient   price metric\n",
       "0       lemon    0.99     lb\n",
       "1       cream   15.96     lb\n",
       "2      yogurt    4.46     lb\n",
       "3     vanilla  111.84     lb\n",
       "4      shrimp   12.99     lb\n",
       "..        ...     ...    ...\n",
       "74      basil    3.25     oz\n",
       "75      thyme    3.75     oz\n",
       "76    parsley    3.00     oz\n",
       "77     nutmeg    6.50     oz\n",
       "78     cloves    7.00     oz\n",
       "\n",
       "[100 rows x 3 columns]"
      ]
     },
     "execution_count": 19,
     "metadata": {},
     "output_type": "execute_result"
    }
   ],
   "source": [
    "analyze_data_2"
   ]
  },
  {
   "cell_type": "markdown",
   "metadata": {},
   "source": [
    "## Current Data"
   ]
  },
  {
   "cell_type": "code",
   "execution_count": 100,
   "metadata": {},
   "outputs": [],
   "source": [
    "df = pd.read_csv('./ingredients_refined.csv')"
   ]
  },
  {
   "cell_type": "markdown",
   "metadata": {},
   "source": [
    "### Looking at how many column mismatches receiving in our strings"
   ]
  },
  {
   "cell_type": "code",
   "execution_count": 101,
   "metadata": {},
   "outputs": [],
   "source": [
    "import json\n",
    "with open('./train.json', 'r') as f:\n",
    "    recipes = json.load(f)"
   ]
  },
  {
   "cell_type": "code",
   "execution_count": 102,
   "metadata": {},
   "outputs": [],
   "source": [
    "mismatches = set()\n",
    "\n",
    "for recipe in recipes:\n",
    "\n",
    "    recipe_json = recipe\n",
    "    ingredients = recipe_json['ingredients']\n",
    "\n",
    "    for ingredient in ingredients:\n",
    "        df_data = df[df['ingredient'].str.contains(ingredient)]\n",
    "\n",
    "        if len(df_data['ingredient']) == 0:\n",
    "            data = df_data['ingredient']\n",
    "            \n",
    "            mismatches.add(ingredient)"
   ]
  },
  {
   "cell_type": "code",
   "execution_count": 96,
   "metadata": {},
   "outputs": [
    {
     "data": {
      "text/plain": [
       "set()"
      ]
     },
     "execution_count": 96,
     "metadata": {},
     "output_type": "execute_result"
    }
   ],
   "source": [
    "mismatches"
   ]
  },
  {
   "cell_type": "code",
   "execution_count": 103,
   "metadata": {},
   "outputs": [
    {
     "data": {
      "text/plain": [
       "[{'id': 10259,\n",
       "  'cuisine': 'greek',\n",
       "  'ingredients': ['lettuce',\n",
       "   'tomatoes',\n",
       "   'garlic',\n",
       "   'pepper',\n",
       "   'onion',\n",
       "   'cumin',\n",
       "   'coriander',\n",
       "   'bean',\n",
       "   'cheese']},\n",
       " {'id': 25693,\n",
       "  'cuisine': 'southern_us',\n",
       "  'ingredients': ['flour',\n",
       "   'pepper',\n",
       "   'salt',\n",
       "   'tomatoes',\n",
       "   'black pepper',\n",
       "   'thyme',\n",
       "   'eggs',\n",
       "   'milk',\n",
       "   'oil']},\n",
       " {'id': 20130,\n",
       "  'cuisine': 'filipino',\n",
       "  'ingredients': ['eggs',\n",
       "   'pepper',\n",
       "   'salt',\n",
       "   'oil',\n",
       "   'chili',\n",
       "   'chicken breast',\n",
       "   'garlic',\n",
       "   'onion',\n",
       "   'butter',\n",
       "   'whole chicken']},\n",
       " {'id': 6602,\n",
       "  'cuisine': 'jamaican',\n",
       "  'ingredients': ['flour',\n",
       "   'sugar',\n",
       "   'butter',\n",
       "   'eggs',\n",
       "   'ginger',\n",
       "   'salt',\n",
       "   'cinnamon',\n",
       "   'milk',\n",
       "   'vanilla']},\n",
       " {'id': 42779,\n",
       "  'cuisine': 'spanish',\n",
       "  'ingredients': ['oil',\n",
       "   'salt',\n",
       "   'shrimp',\n",
       "   'pepper',\n",
       "   'garlic',\n",
       "   'cilantro',\n",
       "   'parsley',\n",
       "   'sirloin steak',\n",
       "   'vinegar',\n",
       "   'salt',\n",
       "   'ham']},\n",
       " {'id': 16903,\n",
       "  'cuisine': 'mexican',\n",
       "  'ingredients': ['oil',\n",
       "   'onion',\n",
       "   'pork chops',\n",
       "   'peppers',\n",
       "   'jalapenos',\n",
       "   'tortillas',\n",
       "   'cheddar cheese',\n",
       "   'black pepper',\n",
       "   'salt',\n",
       "   'lettuce',\n",
       "   'chili',\n",
       "   'cilantro']},\n",
       " {'id': 45887,\n",
       "  'cuisine': 'chinese',\n",
       "  'ingredients': ['ginger',\n",
       "   'bean',\n",
       "   'black pepper',\n",
       "   'oil',\n",
       "   'sugar',\n",
       "   'wine',\n",
       "   'garlic',\n",
       "   'ground beef extra lean',\n",
       "   'red pepper']},\n",
       " {'id': 2698,\n",
       "  'cuisine': 'italian',\n",
       "  'ingredients': ['parsley',\n",
       "   'red pepper',\n",
       "   'oil',\n",
       "   'lemon',\n",
       "   'fish',\n",
       "   'garlic',\n",
       "   'chili',\n",
       "   'salt',\n",
       "   'parsley']},\n",
       " {'id': 41995,\n",
       "  'cuisine': 'mexican',\n",
       "  'ingredients': ['cinnamon',\n",
       "   'cilantro',\n",
       "   'chili',\n",
       "   'coriander',\n",
       "   'salt',\n",
       "   'black pepper',\n",
       "   'garlic',\n",
       "   'tomatoes',\n",
       "   'avocado',\n",
       "   'lime',\n",
       "   'steak',\n",
       "   'salt',\n",
       "   'cumin',\n",
       "   'black pepper',\n",
       "   'oil',\n",
       "   'onions']},\n",
       " {'id': 31908,\n",
       "  'cuisine': 'italian',\n",
       "  'ingredients': ['parmesan',\n",
       "   'butter',\n",
       "   'flour',\n",
       "   'chicken stock',\n",
       "   'cheese',\n",
       "   'black pepper',\n",
       "   'bacon',\n",
       "   'spaghetti',\n",
       "   'milk',\n",
       "   'oil',\n",
       "   'salt']},\n",
       " {'id': 13121,\n",
       "  'cuisine': 'thai',\n",
       "  'ingredients': ['pork loin',\n",
       "   'peanut butter',\n",
       "   'cilantro',\n",
       "   'basil',\n",
       "   'rice',\n",
       "   'shrimp',\n",
       "   'bean']},\n",
       " {'id': 49136,\n",
       "  'cuisine': 'italian',\n",
       "  'ingredients': ['tomatoes',\n",
       "   'butter',\n",
       "   'parsley',\n",
       "   'oil',\n",
       "   'spaghetti',\n",
       "   'bacon',\n",
       "   'red pepper',\n",
       "   'olives',\n",
       "   'lemon',\n",
       "   'garlic']},\n",
       " {'id': 27976,\n",
       "  'cuisine': 'cajun_creole',\n",
       "  'ingredients': ['lemon',\n",
       "   'tomatoes',\n",
       "   'paprika',\n",
       "   'mango',\n",
       "   'chicken stock',\n",
       "   'chili',\n",
       "   'onions',\n",
       "   'peppers',\n",
       "   'oil']}]"
      ]
     },
     "execution_count": 103,
     "metadata": {},
     "output_type": "execute_result"
    }
   ],
   "source": [
    "recipes"
   ]
  },
  {
   "cell_type": "markdown",
   "metadata": {},
   "source": [
    "# Building the Amount matrix"
   ]
  },
  {
   "cell_type": "code",
   "execution_count": 11,
   "metadata": {},
   "outputs": [],
   "source": [
    "import json\n",
    "with open('./train.json', 'r') as f:\n",
    "    recipes = json.load(f)\n",
    "\n",
    "df = pd.read_csv('./ingredients_refined.csv')"
   ]
  },
  {
   "cell_type": "code",
   "execution_count": null,
   "metadata": {},
   "outputs": [],
   "source": [
    "for recipe in recipes:\n",
    "    "
   ]
  },
  {
   "cell_type": "markdown",
   "metadata": {},
   "source": [
    "# Modeling "
   ]
  },
  {
   "cell_type": "code",
   "execution_count": 2,
   "metadata": {},
   "outputs": [],
   "source": [
    "import pandas as pd\n",
    "import numpy as np \n",
    "df = pd.read_csv('./ingredients_refined.csv')\n",
    "ingredients = np.array(df['ingredient'].values)\n",
    "price = df['price']\n",
    "metric = df['metric']"
   ]
  },
  {
   "cell_type": "code",
   "execution_count": 8,
   "metadata": {},
   "outputs": [],
   "source": [
    "import gamspy as gp\n",
    "import numpy as np\n",
    "\n",
    "cont = gp.Container()\n",
    "I = cont.addSet('I', records = range(1, len(ingredients) + 1))\n",
    "R = cont.addSet('R', records = range(1, len(recipes) + 1))"
   ]
  },
  {
   "cell_type": "code",
   "execution_count": 152,
   "metadata": {},
   "outputs": [
    {
     "ename": "Exception",
     "evalue": "Dimensionality of records (121) is inconsistent with set domain specification (1)",
     "output_type": "error",
     "traceback": [
      "\u001b[0;31m---------------------------------------------------------------------------\u001b[0m",
      "\u001b[0;31mException\u001b[0m                                 Traceback (most recent call last)",
      "Cell \u001b[0;32mIn[152], line 1\u001b[0m\n\u001b[0;32m----> 1\u001b[0m names \u001b[38;5;241m=\u001b[39m cont\u001b[38;5;241m.\u001b[39maddSet(\u001b[38;5;124m'\u001b[39m\u001b[38;5;124mnames\u001b[39m\u001b[38;5;124m'\u001b[39m, domain \u001b[38;5;241m=\u001b[39m \u001b[38;5;124m'\u001b[39m\u001b[38;5;124mI\u001b[39m\u001b[38;5;124m'\u001b[39m, records\u001b[38;5;241m=\u001b[39m[ingredients])\n",
      "File \u001b[0;32m~/anaconda3/lib/python3.11/site-packages/gamspy/_container.py:867\u001b[0m, in \u001b[0;36mContainer.addSet\u001b[0;34m(self, name, domain, is_singleton, records, domain_forwarding, description, uels_on_axes, is_miro_input, is_miro_output)\u001b[0m\n\u001b[1;32m    812\u001b[0m \u001b[38;5;28;01mdef\u001b[39;00m \u001b[38;5;21maddSet\u001b[39m(\n\u001b[1;32m    813\u001b[0m     \u001b[38;5;28mself\u001b[39m,\n\u001b[1;32m    814\u001b[0m     name: \u001b[38;5;28mstr\u001b[39m \u001b[38;5;241m|\u001b[39m \u001b[38;5;28;01mNone\u001b[39;00m \u001b[38;5;241m=\u001b[39m \u001b[38;5;28;01mNone\u001b[39;00m,\n\u001b[0;32m   (...)\u001b[0m\n\u001b[1;32m    822\u001b[0m     is_miro_output: \u001b[38;5;28mbool\u001b[39m \u001b[38;5;241m=\u001b[39m \u001b[38;5;28;01mFalse\u001b[39;00m,\n\u001b[1;32m    823\u001b[0m ) \u001b[38;5;241m-\u001b[39m\u001b[38;5;241m>\u001b[39m Set:\n\u001b[1;32m    824\u001b[0m \u001b[38;5;250m    \u001b[39m\u001b[38;5;124;03m\"\"\"\u001b[39;00m\n\u001b[1;32m    825\u001b[0m \u001b[38;5;124;03m    Creates a Set and adds it to the container\u001b[39;00m\n\u001b[1;32m    826\u001b[0m \n\u001b[0;32m   (...)\u001b[0m\n\u001b[1;32m    865\u001b[0m \n\u001b[1;32m    866\u001b[0m \u001b[38;5;124;03m    \"\"\"\u001b[39;00m\n\u001b[0;32m--> 867\u001b[0m     \u001b[38;5;28;01mreturn\u001b[39;00m gp\u001b[38;5;241m.\u001b[39mSet(\n\u001b[1;32m    868\u001b[0m         \u001b[38;5;28mself\u001b[39m,\n\u001b[1;32m    869\u001b[0m         name,\n\u001b[1;32m    870\u001b[0m         domain,\n\u001b[1;32m    871\u001b[0m         is_singleton,\n\u001b[1;32m    872\u001b[0m         records,\n\u001b[1;32m    873\u001b[0m         domain_forwarding,\n\u001b[1;32m    874\u001b[0m         description,\n\u001b[1;32m    875\u001b[0m         uels_on_axes,\n\u001b[1;32m    876\u001b[0m         is_miro_input\u001b[38;5;241m=\u001b[39mis_miro_input,\n\u001b[1;32m    877\u001b[0m         is_miro_output\u001b[38;5;241m=\u001b[39mis_miro_output,\n\u001b[1;32m    878\u001b[0m     )\n",
      "File \u001b[0;32m~/anaconda3/lib/python3.11/site-packages/gamspy/_symbols/set.py:652\u001b[0m, in \u001b[0;36mSet.__init__\u001b[0;34m(self, container, name, domain, is_singleton, records, domain_forwarding, description, uels_on_axes, is_miro_input, is_miro_output)\u001b[0m\n\u001b[1;32m    649\u001b[0m \u001b[38;5;28mself\u001b[39m\u001b[38;5;241m.\u001b[39mcontainer\u001b[38;5;241m.\u001b[39m_add_statement(\u001b[38;5;28mself\u001b[39m)\n\u001b[1;32m    651\u001b[0m \u001b[38;5;28;01mif\u001b[39;00m records \u001b[38;5;129;01mis\u001b[39;00m \u001b[38;5;129;01mnot\u001b[39;00m \u001b[38;5;28;01mNone\u001b[39;00m:\n\u001b[0;32m--> 652\u001b[0m     \u001b[38;5;28mself\u001b[39m\u001b[38;5;241m.\u001b[39msetRecords(records, uels_on_axes\u001b[38;5;241m=\u001b[39muels_on_axes)\n\u001b[1;32m    653\u001b[0m \u001b[38;5;28;01melse\u001b[39;00m:\n\u001b[1;32m    654\u001b[0m     \u001b[38;5;28mself\u001b[39m\u001b[38;5;241m.\u001b[39mcontainer\u001b[38;5;241m.\u001b[39m_synch_with_gams(\n\u001b[1;32m    655\u001b[0m         gams_to_gamspy\u001b[38;5;241m=\u001b[39m\u001b[38;5;28mself\u001b[39m\u001b[38;5;241m.\u001b[39m_is_miro_input\n\u001b[1;32m    656\u001b[0m     )\n",
      "File \u001b[0;32m~/anaconda3/lib/python3.11/site-packages/gamspy/_symbols/set.py:790\u001b[0m, in \u001b[0;36mSet.setRecords\u001b[0;34m(self, records, uels_on_axes)\u001b[0m\n\u001b[1;32m    766\u001b[0m \u001b[38;5;28;01mdef\u001b[39;00m \u001b[38;5;21msetRecords\u001b[39m(\u001b[38;5;28mself\u001b[39m, records: Any, uels_on_axes: \u001b[38;5;28mbool\u001b[39m \u001b[38;5;241m=\u001b[39m \u001b[38;5;28;01mFalse\u001b[39;00m) \u001b[38;5;241m-\u001b[39m\u001b[38;5;241m>\u001b[39m \u001b[38;5;28;01mNone\u001b[39;00m:\n\u001b[1;32m    767\u001b[0m \u001b[38;5;250m    \u001b[39m\u001b[38;5;124;03m\"\"\"\u001b[39;00m\n\u001b[1;32m    768\u001b[0m \u001b[38;5;124;03m    Main convenience method to set standard pandas.DataFrame formatted\u001b[39;00m\n\u001b[1;32m    769\u001b[0m \u001b[38;5;124;03m    records. If uels_on_axes=True setRecords will assume that all domain\u001b[39;00m\n\u001b[0;32m   (...)\u001b[0m\n\u001b[1;32m    787\u001b[0m \n\u001b[1;32m    788\u001b[0m \u001b[38;5;124;03m    \"\"\"\u001b[39;00m\n\u001b[0;32m--> 790\u001b[0m     \u001b[38;5;28msuper\u001b[39m()\u001b[38;5;241m.\u001b[39msetRecords(records, uels_on_axes)\n\u001b[1;32m    792\u001b[0m     \u001b[38;5;28mself\u001b[39m\u001b[38;5;241m.\u001b[39mcontainer\u001b[38;5;241m.\u001b[39m_synch_with_gams(gams_to_gamspy\u001b[38;5;241m=\u001b[39m\u001b[38;5;28mself\u001b[39m\u001b[38;5;241m.\u001b[39m_is_miro_input)\n\u001b[1;32m    793\u001b[0m     \u001b[38;5;28mself\u001b[39m\u001b[38;5;241m.\u001b[39m_winner \u001b[38;5;241m=\u001b[39m \u001b[38;5;124m\"\u001b[39m\u001b[38;5;124mpython\u001b[39m\u001b[38;5;124m\"\u001b[39m\n",
      "File \u001b[0;32m~/anaconda3/lib/python3.11/site-packages/gams/transfer/syms/container_syms/_set.py:413\u001b[0m, in \u001b[0;36mSet.setRecords\u001b[0;34m(self, records, uels_on_axes)\u001b[0m\n\u001b[1;32m    410\u001b[0m         \u001b[38;5;28mself\u001b[39m\u001b[38;5;241m.\u001b[39m_from_dataframe(records)\n\u001b[1;32m    412\u001b[0m \u001b[38;5;28;01melse\u001b[39;00m:\n\u001b[0;32m--> 413\u001b[0m     \u001b[38;5;28mself\u001b[39m\u001b[38;5;241m.\u001b[39m_from_else(records)\n",
      "File \u001b[0;32m~/anaconda3/lib/python3.11/site-packages/gams/transfer/syms/container_syms/_set.py:543\u001b[0m, in \u001b[0;36mSet._from_else\u001b[0;34m(self, records)\u001b[0m\n\u001b[1;32m    541\u001b[0m r, c \u001b[38;5;241m=\u001b[39m records\u001b[38;5;241m.\u001b[39mshape\n\u001b[1;32m    542\u001b[0m \u001b[38;5;28;01mif\u001b[39;00m c \u001b[38;5;241m-\u001b[39m \u001b[38;5;241m1\u001b[39m \u001b[38;5;241m!=\u001b[39m \u001b[38;5;28mself\u001b[39m\u001b[38;5;241m.\u001b[39mdimension:\n\u001b[0;32m--> 543\u001b[0m     \u001b[38;5;28;01mraise\u001b[39;00m \u001b[38;5;167;01mException\u001b[39;00m(\n\u001b[1;32m    544\u001b[0m         \u001b[38;5;124mf\u001b[39m\u001b[38;5;124m\"\u001b[39m\u001b[38;5;124mDimensionality of records (\u001b[39m\u001b[38;5;132;01m{\u001b[39;00mc\u001b[38;5;250m \u001b[39m\u001b[38;5;241m-\u001b[39m\u001b[38;5;250m \u001b[39m\u001b[38;5;241m1\u001b[39m\u001b[38;5;132;01m}\u001b[39;00m\u001b[38;5;124m) is inconsistent \u001b[39m\u001b[38;5;124m\"\u001b[39m\n\u001b[1;32m    545\u001b[0m         \u001b[38;5;124mf\u001b[39m\u001b[38;5;124m\"\u001b[39m\u001b[38;5;124mwith set domain specification (\u001b[39m\u001b[38;5;132;01m{\u001b[39;00m\u001b[38;5;28mself\u001b[39m\u001b[38;5;241m.\u001b[39mdimension\u001b[38;5;132;01m}\u001b[39;00m\u001b[38;5;124m)\u001b[39m\u001b[38;5;124m\"\u001b[39m\n\u001b[1;32m    546\u001b[0m     )\n\u001b[1;32m    548\u001b[0m \u001b[38;5;66;03m# keep user defined categories if provided\u001b[39;00m\n\u001b[1;32m    549\u001b[0m \u001b[38;5;28;01mfor\u001b[39;00m i \u001b[38;5;129;01min\u001b[39;00m \u001b[38;5;28mrange\u001b[39m(\u001b[38;5;28mself\u001b[39m\u001b[38;5;241m.\u001b[39mdimension):\n\u001b[1;32m    550\u001b[0m     \u001b[38;5;66;03m# create categorical\u001b[39;00m\n",
      "\u001b[0;31mException\u001b[0m: Dimensionality of records (121) is inconsistent with set domain specification (1)"
     ]
    }
   ],
   "source": [
    "names = cont.addSet('names', domain = 'I', records=[])"
   ]
  },
  {
   "cell_type": "code",
   "execution_count": null,
   "metadata": {},
   "outputs": [],
   "source": [
    "R = cont.addParameter()"
   ]
  }
 ],
 "metadata": {
  "kernelspec": {
   "display_name": "base",
   "language": "python",
   "name": "python3"
  },
  "language_info": {
   "codemirror_mode": {
    "name": "ipython",
    "version": 3
   },
   "file_extension": ".py",
   "mimetype": "text/x-python",
   "name": "python",
   "nbconvert_exporter": "python",
   "pygments_lexer": "ipython3",
   "version": "3.11.9"
  }
 },
 "nbformat": 4,
 "nbformat_minor": 2
}
