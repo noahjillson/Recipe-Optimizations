{
 "cells": [
  {
   "cell_type": "markdown",
   "metadata": {},
   "source": [
    "# Initial Data Reading and Cleaning"
   ]
  },
  {
   "cell_type": "code",
   "execution_count": 96,
   "metadata": {},
   "outputs": [],
   "source": [
    "import pandas as pd\n",
    "import numpy as np\n",
    "\n",
    "df = pd.read_csv('./ingredients_refined.csv')\n",
    "\n",
    "df = df.drop_duplicates(subset=['ingredient'])\n",
    "\n",
    "ingredients = np.array(df['ingredient'].str.lower().values)\n",
    "price = np.array(df['price'].values)\n",
    "metric = np.array(df['metric'].values)"
   ]
  },
  {
   "cell_type": "markdown",
   "metadata": {
    "vscode": {
     "languageId": "plaintext"
    }
   },
   "source": [
    "# Building the amount matrix"
   ]
  },
  {
   "cell_type": "code",
   "execution_count": 97,
   "metadata": {},
   "outputs": [],
   "source": [
    "import json\n",
    "\n",
    "with open('./augmented_recipes.json', 'r') as f:\n",
    "    recipes = json.load(f)\n",
    "\n",
    "matrix = pd.DataFrame(columns=ingredients, index = [recipe['id'] for recipe in recipes])\n",
    "matrix.columns = matrix.columns.str.strip()\n",
    "\n",
    "for recipe in recipes:\n",
    "    for ingredient, quantity in zip(recipe[\"ingredients\"], recipe[\"quantities\"]):\n",
    "        ingredient = ingredient.strip().lower()\n",
    "        for column in matrix.columns:\n",
    "            if ingredient in column:  # Check if ingredient is a substring of the column\n",
    "                matrix.loc[recipe[\"id\"], column] = quantity\n",
    "\n",
    "matrix = matrix.fillna(0)\n",
    "matrix.to_csv('./matrix.csv')"
   ]
  },
  {
   "cell_type": "code",
   "execution_count": null,
   "metadata": {},
   "outputs": [],
   "source": []
  },
  {
   "cell_type": "markdown",
   "metadata": {},
   "source": [
    "# Modeling"
   ]
  },
  {
   "cell_type": "markdown",
   "metadata": {},
   "source": [
    "# TO ADD"
   ]
  },
  {
   "cell_type": "markdown",
   "metadata": {},
   "source": [
    "1. Advanced recipes constraint (i.e.) $$ \\sum_{i=1}^{|I|} Contains_{i. r}*x_r \\geq 7 \\ \\ \\forall r$$\n",
    "2. Add the amount (normal distribution)\n",
    "    - Have to create 2 matrices now, 1 for amount and 1 for contains"
   ]
  },
  {
   "cell_type": "markdown",
   "metadata": {},
   "source": [
    "### Set definitions"
   ]
  },
  {
   "cell_type": "code",
   "execution_count": 98,
   "metadata": {},
   "outputs": [],
   "source": [
    "import gamspy as gp\n",
    "import numpy as np\n",
    "import gamspy.math as gpm\n",
    "\n",
    "cont = gp.Container()\n",
    "I = cont.addSet('I', records = [ingredients[idx] for idx in range(len(ingredients))], description = 'A set containing all of the valid ingredients')\n",
    "R = cont.addSet('R', records = [recipe['id'] for recipe in recipes], description= 'A set containing all of the recipes that can be made')\n",
    "S = cont.addSet('S', records = [1/15, 1/10, 1/5, 1/4, 1/2, 1], description=\"Sizes of ingredients purchasable\")"
   ]
  },
  {
   "cell_type": "markdown",
   "metadata": {},
   "source": [
    "### Parameter Definitions"
   ]
  },
  {
   "cell_type": "code",
   "execution_count": 99,
   "metadata": {},
   "outputs": [],
   "source": [
    "PPS = cont.addParameter('PPS', domain=[S], description=\"Price per size scalar\",\n",
    "                        records=np.array([[1/15], [1/10], [1/5], [1/4], [1/2], [1]]))\n",
    "APS = cont.addParameter('PPS', domain=[S], description=\"Unit amount per size scalar\",\n",
    "                        records=np.array([[1/15], [1/10], [1/5], [1/4], [1/2], [1]]))\n",
    "\n",
    "C = cont.addParameter('C', domain=[S, I], description=\"Cost per unit of each of the ingredients\",\n",
    "                      records = np.expand_dims(PPS.records['value'].to_numpy(), axis=0).T * np.tile(price, (6,1)))\n",
    "\n",
    "A = cont.addParameter('A', domain=[R, I], description=\"Amount of ingredient i required in recipe r\", records = np.array(matrix))\n",
    "B = cont.addParameter('B', description=\"Budget to purchase ingredients\", records=400)\n",
    "lam = cont.addParameter('lam', description=\"Trade off parameter used to weight the regularizer\", records = .01)"
   ]
  },
  {
   "cell_type": "markdown",
   "metadata": {},
   "source": [
    "### Variable Definitions"
   ]
  },
  {
   "cell_type": "code",
   "execution_count": 100,
   "metadata": {},
   "outputs": [],
   "source": [
    "z = cont.addVariable('z', \"integer\", domain=[S, I], description=\"Amount of ingredient i purchased\")\n",
    "x = cont.addVariable('x', \"binary\", domain=[R], description=\"Indicator variable to make recipe r\")\n",
    "l = cont.addVariable('l', \"free\", domain=[I], description=\"Leftover ingredients after all recipes are made\")"
   ]
  },
  {
   "cell_type": "markdown",
   "metadata": {},
   "source": [
    "### Equations"
   ]
  },
  {
   "cell_type": "code",
   "execution_count": 101,
   "metadata": {},
   "outputs": [],
   "source": [
    "budget = cont.addEquation('budget', 'regular',\n",
    "                        description=\"Constrains the total money spent on ingredients to be within the budget\")\n",
    "budget[:] = gp.Sum([S,I], C[S,I] * z[S,I]) <= B\n",
    "\n",
    "ingredient_amounts = cont.addEquation('ingredient_amounts', 'regular', domain=[I],\n",
    "                              description=\"Ensures enough ingredients are purchased to satisfy the selected recipes\")\n",
    "ingredient_amounts[I] = gp.Sum(R, A[R, I] * x[R]) <= gp.Sum(S, APS[S] * z[S, I])\n",
    "\n",
    "waste = cont.addEquation('waste', 'regular', domain=[I],\n",
    "                          description=\"Sets the leftover variable equal to the amount of unused ingredients\")\n",
    "waste[I] = l[I] == gp.Sum(S, APS[S] * z[S, I]) -  gp.Sum(R, A[R, I] * x[R])\n",
    "\n",
    "tot_recipes = cont.addEquation('tot_recipes', description=\"Ensures enough recipes for a weeks worth of dinner can be made\")\n",
    "tot_recipes[:] = gp.Sum(R, x[R]) >= 7\n",
    "\n",
    "z.lo[S, I]= 0\n",
    "l.lo[:] = 0"
   ]
  },
  {
   "cell_type": "code",
   "execution_count": 102,
   "metadata": {},
   "outputs": [],
   "source": [
    "objective = gp.Sum(R, x[R]) - lam * gp.Sum(I, l[I])\n",
    "\n",
    "recipe_optimization = cont.addModel(\n",
    "    name='recipe_optimization',\n",
    "    problem=gp.Problem.MIP,\n",
    "    equations=cont.getEquations(),\n",
    "    sense=gp.Sense.MAX,\n",
    "    objective=objective\n",
    ")"
   ]
  },
  {
   "cell_type": "code",
   "execution_count": 103,
   "metadata": {},
   "outputs": [
    {
     "name": "stdout",
     "output_type": "stream",
     "text": [
      "Amount of ingredients to purchase: 149\n",
      "Recipes to make          R  level  marginal  lower  upper  scale\n",
      "1    25693    1.0    1.0229    0.0    1.0    1.0\n",
      "11   49136    1.0    1.0265    0.0    1.0    1.0\n",
      "13   31318    1.0    1.0198    0.0    1.0    1.0\n",
      "14   31027    1.0    1.0118    0.0    1.0    1.0\n",
      "17   19757    1.0    1.0377    0.0    1.0    1.0\n",
      "..     ...    ...       ...    ...    ...    ...\n",
      "117  25118    1.0    1.0045    0.0    1.0    1.0\n",
      "118  17586    1.0    1.0045    0.0    1.0    1.0\n",
      "119  22678    1.0    1.0147    0.0    1.0    1.0\n",
      "120    428    1.0    1.0045    0.0    1.0    1.0\n",
      "123  20983    1.0    1.0351    0.0    1.0    1.0\n",
      "\n",
      "[70 rows x 6 columns]\n"
     ]
    }
   ],
   "source": [
    "recipe_optimization.solve(solver = 'cplex')\n",
    "df = z.records\n",
    "print(f\"Amount of ingredients to purchase: {len(df[df['level'] > 0])}\")\n",
    "print(f\"Recipes to make {x.records[x.records['level'] > 0]}\")"
   ]
  },
  {
   "cell_type": "markdown",
   "metadata": {},
   "source": [
    "# Sensitivity Analysis"
   ]
  },
  {
   "cell_type": "markdown",
   "metadata": {},
   "source": [
    "## lambda sensitivity"
   ]
  },
  {
   "cell_type": "markdown",
   "metadata": {},
   "source": [
    "## budget sensitivity"
   ]
  },
  {
   "cell_type": "code",
   "execution_count": 104,
   "metadata": {},
   "outputs": [],
   "source": [
    "import seaborn as sns\n",
    "import matplotlib.pyplot as plt \n",
    "\n",
    "amount_recipes = []\n",
    "budget = []\n",
    "loss = []\n",
    "\n",
    "for num in range(100, 1000):\n",
    "    B.setRecords(num)\n",
    "    recipe_optimization.solve(solver = 'cplex')\n",
    "    df = x.records\n",
    "    number_recipes = len(df[df['level'] > 0])\n",
    "    loss.append(l.records['level'].sum())\n",
    "    budget.append(num)\n",
    "    amount_recipes.append(number_recipes)\n",
    "    num += 50\n",
    "\n",
    "import seaborn as sns\n",
    "\n",
    "sns.lineplot(x = budget, y = amount_recipes)\n",
    "plt.grid()\n"
   ]
  },
  {
   "cell_type": "code",
   "execution_count": null,
   "metadata": {},
   "outputs": [
    {
     "data": {
      "image/png": "[encoded data removed]",
      "text/plain": [
       "<Figure size 640x480 with 1 Axes>"
      ]
     },
     "metadata": {},
     "output_type": "display_data"
    }
   ],
   "source": [
    "sns.lineplot(x = budget, y = loss)\n",
    "plt.grid()"
   ]
  },
  {
   "cell_type": "code",
   "execution_count": null,
   "metadata": {},
   "outputs": [],
   "source": []
  }
 ],
 "metadata": {
  "kernelspec": {
   "display_name": "base",
   "language": "python",
   "name": "python3"
  },
  "language_info": {
   "codemirror_mode": {
    "name": "ipython",
    "version": 3
   },
   "file_extension": ".py",
   "mimetype": "text/x-python",
   "name": "python",
   "nbconvert_exporter": "python",
   "pygments_lexer": "ipython3",
   "version": "3.11.9"
  }
 },
 "nbformat": 4,
 "nbformat_minor": 2
}
