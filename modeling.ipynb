{
 "cells": [
  {
   "cell_type": "markdown",
   "metadata": {
    "vscode": {
     "languageId": "plaintext"
    }
   },
   "source": [
    "# Building the amount matrix"
   ]
  },
  {
   "cell_type": "code",
   "execution_count": 1,
   "metadata": {},
   "outputs": [],
   "source": [
    "import json\n",
    "import pandas as pd\n",
    "with open('./train.json', 'r') as f:\n",
    "    recipes = json.load(f)\n",
    "\n",
    "df = pd.read_csv('./ingredients_refined.csv')"
   ]
  },
  {
   "cell_type": "code",
   "execution_count": 12,
   "metadata": {},
   "outputs": [],
   "source": [
    "matrix = pd.DataFrame(columns=df['ingredient'].values)"
   ]
  },
  {
   "cell_type": "code",
   "execution_count": 18,
   "metadata": {},
   "outputs": [
    {
     "data": {
      "text/html": [
       "<div>\n",
       "<style scoped>\n",
       "    .dataframe tbody tr th:only-of-type {\n",
       "        vertical-align: middle;\n",
       "    }\n",
       "\n",
       "    .dataframe tbody tr th {\n",
       "        vertical-align: top;\n",
       "    }\n",
       "\n",
       "    .dataframe thead th {\n",
       "        text-align: right;\n",
       "    }\n",
       "</style>\n",
       "<table border=\"1\" class=\"dataframe\">\n",
       "  <thead>\n",
       "    <tr style=\"text-align: right;\">\n",
       "      <th></th>\n",
       "      <th>lemon</th>\n",
       "      <th>cream</th>\n",
       "      <th>yogurt</th>\n",
       "      <th>vanilla</th>\n",
       "      <th>shrimp</th>\n",
       "      <th>cilantro</th>\n",
       "      <th>jalapeno</th>\n",
       "      <th>parsley</th>\n",
       "      <th>vinegar</th>\n",
       "      <th>tortillas</th>\n",
       "      <th>...</th>\n",
       "      <th>olives</th>\n",
       "      <th>onions</th>\n",
       "      <th>peppers</th>\n",
       "      <th>pork loin</th>\n",
       "      <th>lettuce</th>\n",
       "      <th>garlic</th>\n",
       "      <th>onion</th>\n",
       "      <th>cheese</th>\n",
       "      <th>chicken breast</th>\n",
       "      <th>pork chops</th>\n",
       "    </tr>\n",
       "  </thead>\n",
       "  <tbody>\n",
       "  </tbody>\n",
       "</table>\n",
       "<p>0 rows × 128 columns</p>\n",
       "</div>"
      ],
      "text/plain": [
       "Empty DataFrame\n",
       "Columns: [lemon, cream, yogurt, vanilla, shrimp, cilantro, jalapeno, parsley, vinegar, tortillas, red pepper, fish, avocado, lime, chicken stock, parmesan, vegetable stock, beef stock, garam masala, spinach, soy sauce, flour, rice, spaghetti, bread, white, bread, whole wheat, cookies, ground chuck beef, ground beef, ground beef extra lean, chuck roast, chuck roast boneless, round roast boneless, round roast, beef for stew, steak, sirloin steak, bacon, pork chops bone-in, pork chops boneless, ham, ham, bologna, whole chicken, chicken breast bone-in, chicken legs, turket, eggs, milk, butter, american cheese, cheddar cheese, ice cream, apples, banana, orange, grapefruit, lemon, pear, peach, strawberry, grapes, cherries, potatoe, iceburg lettuce, tomato, cabbage, celery, pepper, brocolli, orange juice, bean, sugar, margarine, peanut butter, coffee, wine, all uncooked ground beef, all uncooked beef roasts, other steaks, other beefs, other pork chops, other pork, chicken breast boneless, romaine lettuce, salt, pepper, cinnamon, paprika, garlic powder, onion powder, turmeric, ginger, cumin, oregano, basil, thyme, parsley, nutmeg, cloves, ...]\n",
       "Index: []\n",
       "\n",
       "[0 rows x 128 columns]"
      ]
     },
     "execution_count": 18,
     "metadata": {},
     "output_type": "execute_result"
    }
   ],
   "source": [
    "matrix"
   ]
  },
  {
   "cell_type": "code",
   "execution_count": 22,
   "metadata": {},
   "outputs": [
    {
     "name": "stderr",
     "output_type": "stream",
     "text": [
      "/var/folders/l7/ywb8q5r53j33j1lqzbzjyshm0000gn/T/ipykernel_31755/101412243.py:5: FutureWarning: ChainedAssignmentError: behaviour will change in pandas 3.0!\n",
      "You are setting values through chained assignment. Currently this works in certain cases, but when using Copy-on-Write (which will become the default behaviour in pandas 3.0) this will never work to update the original DataFrame or Series, because the intermediate object on which we are setting values will behave as a copy.\n",
      "A typical example is when you are setting values in a column of a DataFrame, like:\n",
      "\n",
      "df[\"col\"][row_indexer] = value\n",
      "\n",
      "Use `df.loc[row_indexer, \"col\"] = values` instead, to perform the assignment in a single step and ensure this keeps updating the original `df`.\n",
      "\n",
      "See the caveats in the documentation: https://pandas.pydata.org/pandas-docs/stable/user_guide/indexing.html#returning-a-view-versus-a-copy\n",
      "\n",
      "  matrix[ingredient].iloc[recipe_number] = 1\n"
     ]
    },
    {
     "ename": "IndexError",
     "evalue": "iloc cannot enlarge its target object",
     "output_type": "error",
     "traceback": [
      "\u001b[0;31m---------------------------------------------------------------------------\u001b[0m",
      "\u001b[0;31mIndexError\u001b[0m                                Traceback (most recent call last)",
      "Cell \u001b[0;32mIn[22], line 5\u001b[0m\n\u001b[1;32m      3\u001b[0m ingredients \u001b[38;5;241m=\u001b[39m recipe[\u001b[38;5;124m'\u001b[39m\u001b[38;5;124mingredients\u001b[39m\u001b[38;5;124m'\u001b[39m]\n\u001b[1;32m      4\u001b[0m \u001b[38;5;28;01mfor\u001b[39;00m ingredient \u001b[38;5;129;01min\u001b[39;00m ingredients:\n\u001b[0;32m----> 5\u001b[0m     matrix[ingredient]\u001b[38;5;241m.\u001b[39miloc[recipe_number] \u001b[38;5;241m=\u001b[39m \u001b[38;5;241m1\u001b[39m\n\u001b[1;32m      6\u001b[0m matrix \u001b[38;5;241m=\u001b[39m matrix\u001b[38;5;241m.\u001b[39mfillna(\u001b[38;5;241m0\u001b[39m)\n\u001b[1;32m      7\u001b[0m recipe_number \u001b[38;5;241m+\u001b[39m\u001b[38;5;241m=\u001b[39m \u001b[38;5;241m1\u001b[39m\n",
      "File \u001b[0;32m~/anaconda3/lib/python3.11/site-packages/pandas/core/indexing.py:908\u001b[0m, in \u001b[0;36m_LocationIndexer.__setitem__\u001b[0;34m(self, key, value)\u001b[0m\n\u001b[1;32m    906\u001b[0m     key \u001b[38;5;241m=\u001b[39m \u001b[38;5;28mself\u001b[39m\u001b[38;5;241m.\u001b[39m_check_deprecated_callable_usage(key, maybe_callable)\n\u001b[1;32m    907\u001b[0m indexer \u001b[38;5;241m=\u001b[39m \u001b[38;5;28mself\u001b[39m\u001b[38;5;241m.\u001b[39m_get_setitem_indexer(key)\n\u001b[0;32m--> 908\u001b[0m \u001b[38;5;28mself\u001b[39m\u001b[38;5;241m.\u001b[39m_has_valid_setitem_indexer(key)\n\u001b[1;32m    910\u001b[0m iloc \u001b[38;5;241m=\u001b[39m \u001b[38;5;28mself\u001b[39m \u001b[38;5;28;01mif\u001b[39;00m \u001b[38;5;28mself\u001b[39m\u001b[38;5;241m.\u001b[39mname \u001b[38;5;241m==\u001b[39m \u001b[38;5;124m\"\u001b[39m\u001b[38;5;124miloc\u001b[39m\u001b[38;5;124m\"\u001b[39m \u001b[38;5;28;01melse\u001b[39;00m \u001b[38;5;28mself\u001b[39m\u001b[38;5;241m.\u001b[39mobj\u001b[38;5;241m.\u001b[39miloc\n\u001b[1;32m    911\u001b[0m iloc\u001b[38;5;241m.\u001b[39m_setitem_with_indexer(indexer, value, \u001b[38;5;28mself\u001b[39m\u001b[38;5;241m.\u001b[39mname)\n",
      "File \u001b[0;32m~/anaconda3/lib/python3.11/site-packages/pandas/core/indexing.py:1646\u001b[0m, in \u001b[0;36m_iLocIndexer._has_valid_setitem_indexer\u001b[0;34m(self, indexer)\u001b[0m\n\u001b[1;32m   1644\u001b[0m \u001b[38;5;28;01melif\u001b[39;00m is_integer(i):\n\u001b[1;32m   1645\u001b[0m     \u001b[38;5;28;01mif\u001b[39;00m i \u001b[38;5;241m>\u001b[39m\u001b[38;5;241m=\u001b[39m \u001b[38;5;28mlen\u001b[39m(ax):\n\u001b[0;32m-> 1646\u001b[0m         \u001b[38;5;28;01mraise\u001b[39;00m \u001b[38;5;167;01mIndexError\u001b[39;00m(\u001b[38;5;124m\"\u001b[39m\u001b[38;5;124miloc cannot enlarge its target object\u001b[39m\u001b[38;5;124m\"\u001b[39m)\n\u001b[1;32m   1647\u001b[0m \u001b[38;5;28;01melif\u001b[39;00m \u001b[38;5;28misinstance\u001b[39m(i, \u001b[38;5;28mdict\u001b[39m):\n\u001b[1;32m   1648\u001b[0m     \u001b[38;5;28;01mraise\u001b[39;00m \u001b[38;5;167;01mIndexError\u001b[39;00m(\u001b[38;5;124m\"\u001b[39m\u001b[38;5;124miloc cannot enlarge its target object\u001b[39m\u001b[38;5;124m\"\u001b[39m)\n",
      "\u001b[0;31mIndexError\u001b[0m: iloc cannot enlarge its target object"
     ]
    }
   ],
   "source": [
    "recipe_number = 1\n",
    "for recipe in recipes:\n",
    "    ingredients = recipe['ingredients']\n",
    "    for ingredient in ingredients:\n",
    "        matrix[ingredient].iloc[recipe_number] = 1\n",
    "    matrix = matrix.fillna(0)\n",
    "    recipe_number += 1"
   ]
  },
  {
   "cell_type": "markdown",
   "metadata": {},
   "source": [
    "# Modeling"
   ]
  },
  {
   "cell_type": "code",
   "execution_count": 3,
   "metadata": {},
   "outputs": [],
   "source": [
    "import pandas as pd\n",
    "import numpy as np \n",
    "df = pd.read_csv('./ingredients_refined.csv')\n",
    "ingredients = np.array(df['ingredient'].values)\n",
    "price = df['price']\n",
    "metric = df['metric']"
   ]
  },
  {
   "cell_type": "code",
   "execution_count": 4,
   "metadata": {},
   "outputs": [],
   "source": [
    "import gamspy as gp\n",
    "import numpy as np\n",
    "\n",
    "cont = gp.Container()\n",
    "I = cont.addSet('I', records = range(1, len(ingredients) + 1))\n",
    "R = cont.addSet('R', records = range(1, len(recipes) + 1))"
   ]
  },
  {
   "cell_type": "code",
   "execution_count": null,
   "metadata": {},
   "outputs": [],
   "source": []
  }
 ],
 "metadata": {
  "kernelspec": {
   "display_name": "base",
   "language": "python",
   "name": "python3"
  },
  "language_info": {
   "codemirror_mode": {
    "name": "ipython",
    "version": 3
   },
   "file_extension": ".py",
   "mimetype": "text/x-python",
   "name": "python",
   "nbconvert_exporter": "python",
   "pygments_lexer": "ipython3",
   "version": "3.11.9"
  }
 },
 "nbformat": 4,
 "nbformat_minor": 2
}
