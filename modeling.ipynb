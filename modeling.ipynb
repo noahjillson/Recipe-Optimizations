{
 "cells": [
  {
   "cell_type": "markdown",
   "metadata": {},
   "source": [
    "# Initial Data Reading and Cleaning"
   ]
  },
  {
   "cell_type": "code",
   "execution_count": 192,
   "metadata": {},
   "outputs": [],
   "source": [
    "import pandas as pd\n",
    "import numpy as np\n",
    "\n",
    "df = pd.read_csv('./ingredients_refined.csv')\n",
    "\n",
    "df = df.drop_duplicates(subset=['ingredient'])\n",
    "\n",
    "ingredients = np.array(df['ingredient'].values)\n",
    "price = np.array(df['price'].values)\n",
    "metric = np.array(df['metric'].values)"
   ]
  },
  {
   "cell_type": "markdown",
   "metadata": {
    "vscode": {
     "languageId": "plaintext"
    }
   },
   "source": [
    "# Building the amount matrix"
   ]
  },
  {
   "cell_type": "code",
   "execution_count": 193,
   "metadata": {},
   "outputs": [
    {
     "name": "stderr",
     "output_type": "stream",
     "text": [
      "/var/folders/l7/ywb8q5r53j33j1lqzbzjyshm0000gn/T/ipykernel_35442/2305965186.py:15: FutureWarning: Downcasting object dtype arrays on .fillna, .ffill, .bfill is deprecated and will change in a future version. Call result.infer_objects(copy=False) instead. To opt-in to the future behavior, set `pd.set_option('future.no_silent_downcasting', True)`\n",
      "  matrix = matrix.fillna(0)\n"
     ]
    }
   ],
   "source": [
    "import json\n",
    "\n",
    "with open('./train.json', 'r') as f:\n",
    "    recipes = json.load(f)\n",
    "\n",
    "matrix = pd.DataFrame(columns=ingredients, index = [recipe['id'] for recipe in recipes])\n",
    "matrix.columns = matrix.columns.str.strip()\n",
    "\n",
    "for recipe in recipes:\n",
    "    for ingredient in recipe[\"ingredients\"]:\n",
    "        for column in matrix.columns:\n",
    "            if ingredient in column:  # Check if ingredient is a substring of the column\n",
    "                matrix.loc[recipe[\"id\"], column] = 1\n",
    "\n",
    "matrix = matrix.fillna(0)\n",
    "matrix.to_csv('./matrix.csv')"
   ]
  },
  {
   "cell_type": "markdown",
   "metadata": {},
   "source": [
    "# Modeling"
   ]
  },
  {
   "cell_type": "markdown",
   "metadata": {},
   "source": [
    "### Set definitions"
   ]
  },
  {
   "cell_type": "code",
   "execution_count": 201,
   "metadata": {},
   "outputs": [],
   "source": [
    "import gamspy as gp\n",
    "import numpy as np\n",
    "import gamspy.math as gpm\n",
    "\n",
    "cont = gp.Container()\n",
    "I = cont.addSet('I', records = [ingredients[idx] for idx in range(len(ingredients))], description = 'A set containing all of the valid ingredients')\n",
    "R = cont.addSet('R', records = [recipe['id'] for recipe in recipes], description= 'A set containing all of the recipes that can be made')"
   ]
  },
  {
   "cell_type": "markdown",
   "metadata": {},
   "source": [
    "### Parameter Definitions"
   ]
  },
  {
   "cell_type": "code",
   "execution_count": 202,
   "metadata": {},
   "outputs": [],
   "source": [
    "C = cont.addParameter('C', domain=[I], description=\"Cost per unit of each of the ingredients\", records = price)\n",
    "A = cont.addParameter('A', domain=[R, I], description=\"Amount of ingredient i required in recipe r\", records = np.array(matrix))\n",
    "B = cont.addParameter('B', description=\"Budget to purchase ingredients\", records=400)\n",
    "lam = cont.addParameter('lam', description=\"Trade off parameter used to weight the regularizer\", records = .01)"
   ]
  },
  {
   "cell_type": "markdown",
   "metadata": {},
   "source": [
    "### Variable Definitions"
   ]
  },
  {
   "cell_type": "code",
   "execution_count": 203,
   "metadata": {},
   "outputs": [],
   "source": [
    "z = cont.addVariable('z', \"integer\", domain=[I], description=\"Amount of ingredient i purchased\")\n",
    "x = cont.addVariable('x', \"binary\", domain=[R], description=\"Indicator variable to make recipe r\")\n",
    "l = cont.addVariable('l', \"free\", domain=[I], description=\"Leftover ingredients after all recipes are made\")"
   ]
  },
  {
   "cell_type": "markdown",
   "metadata": {},
   "source": [
    "### Equations"
   ]
  },
  {
   "cell_type": "code",
   "execution_count": 204,
   "metadata": {},
   "outputs": [],
   "source": [
    "budget = cont.addEquation('budget', 'regular',\n",
    "                        description=\"Constrains the total money spent on ingredients to be within the budget\")\n",
    "budget[:] = gp.Sum(I, C[I] * z[I]) <= B\n",
    "\n",
    "ingredient_amounts = cont.addEquation('ingredient_amounts', 'regular', domain=[I],\n",
    "                              description=\"Ensures enough ingredients are purchased to satisfy the selected recipes\")\n",
    "ingredient_amounts[I] = gp.Sum(R, A[R, I] * x[R]) <= z[I]\n",
    "\n",
    "waste = cont.addEquation('waste', 'regular', domain=[I],\n",
    "                          description=\"Sets the leftover variable equal to the amount of unused ingredients\")\n",
    "waste[I] = l[I] == z[I] -  gp.Sum(R, A[R, I] * x[R])\n",
    "\n",
    "tot_recipes = cont.addEquation('tot_recipes', description=\"Ensures enough recipes for a weeks worth of dinner can be made\")\n",
    "tot_recipes[:] = gp.Sum(R, x[R]) >= 7\n",
    "\n",
    "z.lo[:]= 0\n",
    "l.lo[:] = 0"
   ]
  },
  {
   "cell_type": "code",
   "execution_count": 206,
   "metadata": {},
   "outputs": [],
   "source": [
    "objective = gp.Sum(R, x[R]) - lam * gp.Sum(I, l[I])\n",
    "\n",
    "recipe_optimization = cont.addModel(\n",
    "    name='recipe_optimization',\n",
    "    problem=gp.Problem.MIP,\n",
    "    equations=cont.getEquations(),\n",
    "    sense=gp.Sense.MAX,\n",
    "    objective=objective\n",
    ")"
   ]
  },
  {
   "cell_type": "code",
   "execution_count": 207,
   "metadata": {},
   "outputs": [
    {
     "name": "stdout",
     "output_type": "stream",
     "text": [
      "Amount of ingredients to purchase: 42\n",
      "Recipes to make         R  level  marginal  lower  upper  scale\n",
      "1   25693    1.0       1.0    0.0    1.0    1.0\n",
      "2   20130    1.0       1.0    0.0    1.0    1.0\n",
      "6   45887    1.0       1.0    0.0    1.0    1.0\n",
      "7    2698    1.0       1.0    0.0    1.0    1.0\n",
      "9   31908    1.0       1.0    0.0    1.0    1.0\n",
      "10  13121    1.0       1.0    0.0    1.0    1.0\n",
      "11  49136    1.0       1.0    0.0    1.0    1.0\n",
      "12  27976    1.0       1.0    0.0    1.0    1.0\n"
     ]
    }
   ],
   "source": [
    "recipe_optimization.solve(solver = 'cplex')\n",
    "df = z.records\n",
    "print(f\"Amount of ingredients to purchase: {len(df[df['level'] > 0])}\")\n",
    "print(f\"Recipes to make {x.records[x.records['level'] > 0]}\")"
   ]
  },
  {
   "cell_type": "markdown",
   "metadata": {},
   "source": [
    "# Sensitivity Analysis"
   ]
  },
  {
   "cell_type": "markdown",
   "metadata": {},
   "source": [
    "## lambda sensitivity"
   ]
  },
  {
   "cell_type": "markdown",
   "metadata": {},
   "source": [
    "## budget sensitivity"
   ]
  },
  {
   "cell_type": "code",
   "execution_count": 216,
   "metadata": {},
   "outputs": [
    {
     "data": {
      "text/html": [
       "<div>\n",
       "<style scoped>\n",
       "    .dataframe tbody tr th:only-of-type {\n",
       "        vertical-align: middle;\n",
       "    }\n",
       "\n",
       "    .dataframe tbody tr th {\n",
       "        vertical-align: top;\n",
       "    }\n",
       "\n",
       "    .dataframe thead th {\n",
       "        text-align: right;\n",
       "    }\n",
       "</style>\n",
       "<table border=\"1\" class=\"dataframe\">\n",
       "  <thead>\n",
       "    <tr style=\"text-align: right;\">\n",
       "      <th></th>\n",
       "      <th>Solver Status</th>\n",
       "      <th>Model Status</th>\n",
       "      <th>Objective</th>\n",
       "      <th>Num of Equations</th>\n",
       "      <th>Num of Variables</th>\n",
       "      <th>Model Type</th>\n",
       "      <th>Solver</th>\n",
       "      <th>Solver Time</th>\n",
       "    </tr>\n",
       "  </thead>\n",
       "  <tbody>\n",
       "    <tr>\n",
       "      <th>0</th>\n",
       "      <td>Normal</td>\n",
       "      <td>OptimalGlobal</td>\n",
       "      <td>7</td>\n",
       "      <td>217</td>\n",
       "      <td>228</td>\n",
       "      <td>MIP</td>\n",
       "      <td>CPLEX</td>\n",
       "      <td>0.021</td>\n",
       "    </tr>\n",
       "  </tbody>\n",
       "</table>\n",
       "</div>"
      ],
      "text/plain": [
       "  Solver Status   Model Status Objective Num of Equations Num of Variables  \\\n",
       "0        Normal  OptimalGlobal         7              217              228   \n",
       "\n",
       "  Model Type Solver Solver Time  \n",
       "0        MIP  CPLEX       0.021  "
      ]
     },
     "execution_count": 216,
     "metadata": {},
     "output_type": "execute_result"
    }
   ],
   "source": [
    "B.setRecords(300)\n",
    "\n",
    "recipe_optimization.solve(solver = 'cplex')"
   ]
  },
  {
   "cell_type": "code",
   "execution_count": 212,
   "metadata": {},
   "outputs": [
    {
     "name": "stderr",
     "output_type": "stream",
     "text": [
      "/Users/liamsoule/anaconda3/lib/python3.11/site-packages/seaborn/_oldcore.py:1119: FutureWarning: use_inf_as_na option is deprecated and will be removed in a future version. Convert inf values to NaN before operating instead.\n",
      "  with pd.option_context('mode.use_inf_as_na', True):\n",
      "/Users/liamsoule/anaconda3/lib/python3.11/site-packages/seaborn/_oldcore.py:1119: FutureWarning: use_inf_as_na option is deprecated and will be removed in a future version. Convert inf values to NaN before operating instead.\n",
      "  with pd.option_context('mode.use_inf_as_na', True):\n"
     ]
    },
    {
     "data": {
      "text/plain": [
       "<Axes: >"
      ]
     },
     "execution_count": 212,
     "metadata": {},
     "output_type": "execute_result"
    },
    {
     "data": {
      "image/png": "[encoded data removed]",
      "text/plain": [
       "<Figure size 640x480 with 1 Axes>"
      ]
     },
     "metadata": {},
     "output_type": "display_data"
    }
   ],
   "source": [
    "amount_recipes = []\n",
    "budget = []\n",
    "loss = []\n",
    "\n",
    "for num in range(300, 1000):\n",
    "    B.setRecords(num)\n",
    "    recipe_optimization.solve(solver = 'cplex')\n",
    "    df = x.records\n",
    "    number_recipes = len(df[df['level'] > 0])\n",
    "    loss.append(l.records['level'].sum())\n",
    "    budget.append(num)\n",
    "    amount_recipes.append(number_recipes)\n",
    "    num += 50\n",
    "\n",
    "import seaborn as sns\n",
    "\n",
    "sns.lineplot(x = budget, y = amount_recipes)"
   ]
  },
  {
   "cell_type": "code",
   "execution_count": null,
   "metadata": {},
   "outputs": [],
   "source": [
    "sns.lineplot(x = budget, y = loss)"
   ]
  }
 ],
 "metadata": {
  "kernelspec": {
   "display_name": "base",
   "language": "python",
   "name": "python3"
  },
  "language_info": {
   "codemirror_mode": {
    "name": "ipython",
    "version": 3
   },
   "file_extension": ".py",
   "mimetype": "text/x-python",
   "name": "python",
   "nbconvert_exporter": "python",
   "pygments_lexer": "ipython3",
   "version": "3.11.9"
  }
 },
 "nbformat": 4,
 "nbformat_minor": 2
}
