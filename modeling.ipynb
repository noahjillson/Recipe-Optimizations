{
 "cells": [
  {
   "cell_type": "markdown",
   "metadata": {},
   "source": [
    "# Initial Data Reading and Cleaning"
   ]
  },
  {
   "cell_type": "code",
   "execution_count": 1,
   "metadata": {},
   "outputs": [],
   "source": [
    "import pandas as pd\n",
    "import numpy as np\n",
    "\n",
    "df = pd.read_csv('./ingredients_refined.csv')\n",
    "\n",
    "df = df.drop_duplicates(subset=['ingredient'])\n",
    "\n",
    "ingredients = np.array(df['ingredient'].values)\n",
    "price = np.array(df['price'].values)\n",
    "metric = np.array(df['metric'].values)"
   ]
  },
  {
   "cell_type": "markdown",
   "metadata": {
    "vscode": {
     "languageId": "plaintext"
    }
   },
   "source": [
    "# Building the amount matrix"
   ]
  },
  {
   "cell_type": "code",
   "execution_count": 2,
   "metadata": {},
   "outputs": [
    {
     "name": "stderr",
     "output_type": "stream",
     "text": [
      "/var/folders/l7/ywb8q5r53j33j1lqzbzjyshm0000gn/T/ipykernel_35442/2278929693.py:15: FutureWarning: Downcasting object dtype arrays on .fillna, .ffill, .bfill is deprecated and will change in a future version. Call result.infer_objects(copy=False) instead. To opt-in to the future behavior, set `pd.set_option('future.no_silent_downcasting', True)`\n",
      "  matrix = matrix.fillna(0)\n"
     ]
    }
   ],
   "source": [
    "import json\n",
    "\n",
    "with open('./train.json', 'r') as f:\n",
    "    recipes = json.load(f)\n",
    "\n",
    "matrix = pd.DataFrame(columns=ingredients, index = [recipe['id'] for recipe in recipes])\n",
    "matrix.columns = matrix.columns.str.strip()\n",
    "\n",
    "for recipe in recipes:\n",
    "    for ingredient in recipe[\"ingredients\"]:\n",
    "        for column in matrix.columns:\n",
    "            if ingredient in column:  # Check if ingredient is a substring of the column\n",
    "                matrix.loc[recipe[\"id\"], column] = 1\n",
    "\n",
    "matrix = matrix.fillna(0)"
   ]
  },
  {
   "cell_type": "code",
   "execution_count": 3,
   "metadata": {},
   "outputs": [],
   "source": [
    "matrix.to_csv('./matrix.csv')"
   ]
  },
  {
   "cell_type": "code",
   "execution_count": 4,
   "metadata": {},
   "outputs": [],
   "source": [
    "matrix = pd.read_csv('./matrix.csv').drop('Unnamed: 0', axis = 1)"
   ]
  },
  {
   "cell_type": "markdown",
   "metadata": {},
   "source": [
    "# Modeling"
   ]
  },
  {
   "cell_type": "markdown",
   "metadata": {},
   "source": [
    "### Set definitions"
   ]
  },
  {
   "cell_type": "code",
   "execution_count": 33,
   "metadata": {},
   "outputs": [],
   "source": [
    "import gamspy as gp\n",
    "import numpy as np\n",
    "import gamspy.math as gpm\n",
    "\n",
    "cont = gp.Container()\n",
    "I = cont.addSet('I', records = [ingredients[idx] for idx in range(len(ingredients))], description = 'A set containing all of the valid ingredients')\n",
    "R = cont.addSet('R', records = [recipe['id'] for recipe in recipes], description= 'A set containing all of the recipes that can be made')"
   ]
  },
  {
   "cell_type": "markdown",
   "metadata": {},
   "source": [
    "### Parameter Definitions"
   ]
  },
  {
   "cell_type": "code",
   "execution_count": 34,
   "metadata": {},
   "outputs": [],
   "source": [
    "C = cont.addParameter('C', domain=[I], description=\"Cost per unit of each of the ingredients\", records = price)\n",
    "A = cont.addParameter('A', domain=[R, I], description=\"Amount of ingredient i required in recipe r\", records = np.array(matrix))\n",
    "B = cont.addParameter('B', description=\"Budget to purchase ingredients\", records=100)\n",
    "lam = cont.addParameter('lam', description=\"Trade off parameter used to weight the regularizer\", records = .01)"
   ]
  },
  {
   "cell_type": "markdown",
   "metadata": {},
   "source": [
    "### Variable Definitions"
   ]
  },
  {
   "cell_type": "code",
   "execution_count": 35,
   "metadata": {},
   "outputs": [],
   "source": [
    "z = cont.addVariable('z', \"integer\", domain=[I], description=\"Amount of ingredient i purchased\")\n",
    "x = cont.addVariable('x', \"binary\", domain=[R], description=\"Indicator variable to make recipe r\")\n",
    "l = cont.addVariable('l', \"free\", domain=[I], description=\"Leftover ingredients after all recipes are made\")"
   ]
  },
  {
   "cell_type": "markdown",
   "metadata": {},
   "source": [
    "### Equations"
   ]
  },
  {
   "cell_type": "code",
   "execution_count": 36,
   "metadata": {},
   "outputs": [],
   "source": [
    "budget = cont.addEquation('budget', 'regular',\n",
    "                        description=\"Constrains the total money spent on ingredients to be within the budget\")\n",
    "budget[:] = gp.Sum(I, C[I] * z[I]) <= B\n",
    "\n",
    "ingredient_amounts = cont.addEquation('ingredient_amounts', 'regular', domain=[I],\n",
    "                              description=\"Ensures enough ingredients are purchased to satisfy the selected recipes\")\n",
    "ingredient_amounts[I] = gp.Sum(R, A[R, I] * x[R]) <= z[I]\n",
    "\n",
    "waste = cont.addEquation('waste', 'regular', domain=[I],\n",
    "                          description=\"Sets the leftover variable equal to the amount of unused ingredients\")\n",
    "waste[I] = l[I] == z[I] -  gp.Sum(R, A[R, I] * x[R])\n",
    "\n",
    "tot_recipes = cont.addEquation('tot_recipes', description=\"Ensures enough recipes for a weeks worth of dinner can be made\")\n",
    "tot_recipes[:] = gp.Sum(R, x[R]) >= 7"
   ]
  },
  {
   "cell_type": "code",
   "execution_count": 37,
   "metadata": {},
   "outputs": [],
   "source": [
    "z.lo[:]= 0\n",
    "l.lo[:] = 0"
   ]
  },
  {
   "cell_type": "code",
   "execution_count": 38,
   "metadata": {},
   "outputs": [],
   "source": [
    "objective = gp.Sum(R, x[R]) # - lam * gp.Sum(I, gpm.sqr(l))\n",
    "\n",
    "recipe_optimization = cont.addModel(\n",
    "    name='recipe_optimization',\n",
    "    problem=gp.Problem.MIP,\n",
    "    equations=cont.getEquations(),\n",
    "    sense=gp.Sense.MAX,\n",
    "    objective=objective\n",
    ")"
   ]
  },
  {
   "cell_type": "code",
   "execution_count": 39,
   "metadata": {},
   "outputs": [
    {
     "data": {
      "text/html": [
       "<div>\n",
       "<style scoped>\n",
       "    .dataframe tbody tr th:only-of-type {\n",
       "        vertical-align: middle;\n",
       "    }\n",
       "\n",
       "    .dataframe tbody tr th {\n",
       "        vertical-align: top;\n",
       "    }\n",
       "\n",
       "    .dataframe thead th {\n",
       "        text-align: right;\n",
       "    }\n",
       "</style>\n",
       "<table border=\"1\" class=\"dataframe\">\n",
       "  <thead>\n",
       "    <tr style=\"text-align: right;\">\n",
       "      <th></th>\n",
       "      <th>Solver Status</th>\n",
       "      <th>Model Status</th>\n",
       "      <th>Objective</th>\n",
       "      <th>Num of Equations</th>\n",
       "      <th>Num of Variables</th>\n",
       "      <th>Model Type</th>\n",
       "      <th>Solver</th>\n",
       "      <th>Solver Time</th>\n",
       "    </tr>\n",
       "  </thead>\n",
       "  <tbody>\n",
       "    <tr>\n",
       "      <th>0</th>\n",
       "      <td>Normal</td>\n",
       "      <td>IntegerInfeasible</td>\n",
       "      <td>NA</td>\n",
       "      <td>217</td>\n",
       "      <td>228</td>\n",
       "      <td>MIP</td>\n",
       "      <td>CPLEX</td>\n",
       "      <td>0.016</td>\n",
       "    </tr>\n",
       "  </tbody>\n",
       "</table>\n",
       "</div>"
      ],
      "text/plain": [
       "  Solver Status       Model Status Objective Num of Equations  \\\n",
       "0        Normal  IntegerInfeasible        NA              217   \n",
       "\n",
       "  Num of Variables Model Type Solver Solver Time  \n",
       "0              228        MIP  CPLEX       0.016  "
      ]
     },
     "execution_count": 39,
     "metadata": {},
     "output_type": "execute_result"
    }
   ],
   "source": [
    "recipe_optimization.solve()"
   ]
  }
 ],
 "metadata": {
  "kernelspec": {
   "display_name": "base",
   "language": "python",
   "name": "python3"
  },
  "language_info": {
   "codemirror_mode": {
    "name": "ipython",
    "version": 3
   },
   "file_extension": ".py",
   "mimetype": "text/x-python",
   "name": "python",
   "nbconvert_exporter": "python",
   "pygments_lexer": "ipython3",
   "version": "3.11.9"
  }
 },
 "nbformat": 4,
 "nbformat_minor": 2
}
