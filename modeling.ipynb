{
 "cells": [
  {
   "cell_type": "markdown",
   "metadata": {},
   "source": [
    "# Initial Data Reading and Cleaning"
   ]
  },
  {
   "cell_type": "code",
   "execution_count": 21,
   "metadata": {},
   "outputs": [],
   "source": [
    "import pandas as pd\n",
    "import numpy as np\n",
    "\n",
    "df = pd.read_csv('./ingredients_refined.csv')\n",
    "\n",
    "ingredients = np.array(df['ingredient'].str.lower().values)\n",
    "price = np.array(df['price'].values)\n",
    "metric = np.array(df['metric'].values)"
   ]
  },
  {
   "cell_type": "markdown",
   "metadata": {
    "vscode": {
     "languageId": "plaintext"
    }
   },
   "source": [
    "# Initial Data Processing for Amount Matrix, the Contains Matrix, and the Cuisine Matrix"
   ]
  },
  {
   "cell_type": "code",
   "execution_count": 22,
   "metadata": {},
   "outputs": [
    {
     "name": "stderr",
     "output_type": "stream",
     "text": [
      "/var/folders/l7/ywb8q5r53j33j1lqzbzjyshm0000gn/T/ipykernel_7368/460116402.py:30: FutureWarning: Downcasting object dtype arrays on .fillna, .ffill, .bfill is deprecated and will change in a future version. Call result.infer_objects(copy=False) instead. To opt-in to the future behavior, set `pd.set_option('future.no_silent_downcasting', True)`\n",
      "  matrix_cuisine_recipe = matrix_cuisine_recipe.fillna(0)\n",
      "/var/folders/l7/ywb8q5r53j33j1lqzbzjyshm0000gn/T/ipykernel_7368/460116402.py:31: FutureWarning: Downcasting object dtype arrays on .fillna, .ffill, .bfill is deprecated and will change in a future version. Call result.infer_objects(copy=False) instead. To opt-in to the future behavior, set `pd.set_option('future.no_silent_downcasting', True)`\n",
      "  matrix_recipe_contains = matrix_recipe_contains.fillna(0)\n"
     ]
    }
   ],
   "source": [
    "import json\n",
    "\n",
    "with open('./augmented_recipes.json', 'r') as f:\n",
    "    recipes = json.load(f)\n",
    "\n",
    "matrix_recipe_ingredients = pd.DataFrame(columns=ingredients, index = [recipe['id'] for recipe in recipes])\n",
    "matrix_recipe_ingredients.columns = matrix_recipe_ingredients.columns.str.strip()\n",
    "matrix_recipe_contains = pd.DataFrame(columns=ingredients, index = [recipe['id'] for recipe in recipes])\n",
    "matrix_recipe_contains.columns = matrix_recipe_contains.columns.str.strip()\n",
    "\n",
    "cuisines = set()\n",
    "\n",
    "for recipe in recipes:\n",
    "    cuisines.add(recipe['cuisine'])\n",
    "    for ingredient, quantity in zip(recipe[\"ingredients\"], recipe[\"quantities\"]):\n",
    "        ingredient = ingredient.strip().lower()\n",
    "        for column in matrix_recipe_ingredients.columns:\n",
    "            if ingredient in column:  # Check if ingredient is a substring of the column\n",
    "                matrix_recipe_ingredients.loc[recipe[\"id\"], column] = quantity\n",
    "                matrix_recipe_contains.loc[recipe[\"id\"], column] = 1\n",
    "\n",
    "matrix_cuisine_recipe = pd.DataFrame(columns = list(cuisines), index = [recipe['id'] for recipe in recipes])\n",
    "\n",
    "for recipe in recipes:\n",
    "    cuisine = recipe['cuisine']\n",
    "    matrix_cuisine_recipe.loc[recipe[\"id\"], cuisine] = 1\n",
    "\n",
    "\n",
    "matrix_recipe_ingredients = matrix_recipe_ingredients.fillna(0)\n",
    "matrix_cuisine_recipe = matrix_cuisine_recipe.fillna(0)\n",
    "matrix_recipe_contains = matrix_recipe_contains.fillna(0)"
   ]
  },
  {
   "cell_type": "markdown",
   "metadata": {},
   "source": [
    "# Modeling"
   ]
  },
  {
   "cell_type": "markdown",
   "metadata": {},
   "source": [
    "### Set definitions"
   ]
  },
  {
   "cell_type": "code",
   "execution_count": 23,
   "metadata": {},
   "outputs": [],
   "source": [
    "import gamspy as gp\n",
    "import numpy as np\n",
    "import gamspy.math as gpm\n",
    "\n",
    "cont = gp.Container()\n",
    "I = cont.addSet('I', records = [ingredients[idx] for idx in range(len(ingredients))], description = 'A set containing all of the valid ingredients')\n",
    "R = cont.addSet('R', records = [recipe['id'] for recipe in recipes], description= 'A set containing all of the recipes that can be made')\n",
    "S = cont.addSet('S', records = [1/15, 1/10, 1/5, 1/4, 1/2, 1], description=\"Sizes of ingredients purchasable\")\n",
    "Cuisines = cont.addSet('Cuisines', records = [i for i in cuisines], description = 'Different cuisines')"
   ]
  },
  {
   "cell_type": "markdown",
   "metadata": {},
   "source": [
    "### Parameter Definitions"
   ]
  },
  {
   "cell_type": "code",
   "execution_count": 24,
   "metadata": {},
   "outputs": [],
   "source": [
    "PPS = cont.addParameter('PPS', domain=[S], description=\"Price per size scalar\",\n",
    "                        records=np.array([[1/15], [1/10], [1/5], [1/4], [1/2], [1]]))\n",
    "APS = cont.addParameter('PPS', domain=[S], description=\"Unit amount per size scalar\",\n",
    "                        records=np.array([[1/15], [1/10], [1/5], [1/4], [1/2], [1]]))\n",
    "\n",
    "C = cont.addParameter('C', domain=[S, I], description=\"Cost per unit of each of the ingredients\",\n",
    "                      records = np.expand_dims(PPS.records['value'].to_numpy(), axis=0).T * np.tile(price, (6,1)))\n",
    "\n",
    "A = cont.addParameter('A', domain=[R, I], description=\"Amount of ingredient i required in recipe r\", records = np.array(matrix_recipe_ingredients))\n",
    "B = cont.addParameter('B', description=\"Budget to purchase ingredients\", records=63)\n",
    "\n",
    "Contains = cont.addParameter('contains', domain = [R, I], description = 'Binary matrix indicating that recipe r contains ingredient i', records = np.array(matrix_recipe_contains))"
   ]
  },
  {
   "cell_type": "markdown",
   "metadata": {},
   "source": [
    "### Variable Definitions"
   ]
  },
  {
   "cell_type": "code",
   "execution_count": 25,
   "metadata": {},
   "outputs": [],
   "source": [
    "z = cont.addVariable('z', \"integer\", domain=[S, I], description=\"Amount of ingredient i purchased\")\n",
    "x = cont.addVariable('x', \"binary\", domain=[R], description=\"Indicator variable to make recipe r\")\n",
    "l = cont.addVariable('l', \"free\", domain=[I], description=\"Leftover ingredients after all recipes are made\")"
   ]
  },
  {
   "cell_type": "markdown",
   "metadata": {},
   "source": [
    "### Equations"
   ]
  },
  {
   "cell_type": "code",
   "execution_count": 26,
   "metadata": {},
   "outputs": [],
   "source": [
    "budget = cont.addEquation('budget', 'regular',\n",
    "                        description=\"Constrains the total money spent on ingredients to be within the budget\")\n",
    "budget[:] = gp.Sum([S,I], C[S,I] * z[S,I]) <= B\n",
    "\n",
    "ingredient_amounts = cont.addEquation('ingredient_amounts', 'regular', domain=[I],\n",
    "                              description=\"Ensures enough ingredients are purchased to satisfy the selected recipes\")\n",
    "ingredient_amounts[I] = gp.Sum(R, A[R, I] * x[R]) <= gp.Sum(S, APS[S] * z[S, I])\n",
    "\n",
    "waste = cont.addEquation('waste', 'regular', domain=[I],\n",
    "                          description=\"Sets the leftover variable equal to the amount of unused ingredients\")\n",
    "waste[I] = l[I] == gp.Sum(S, APS[S] * z[S, I]) -  gp.Sum(R, A[R, I] * x[R])\n",
    "\n",
    "tot_recipes = cont.addEquation('tot_recipes', description=\"Ensures enough recipes for a weeks worth of dinner can be made\")\n",
    "tot_recipes[:] = gp.Sum(R, x[R]) >= 7\n",
    "\n",
    "contains_recipe = cont.addEquation('contains_recipe', description=\"Ensures only selecting recipes with greater than 7 ingredients\", domain = [R])\n",
    "contains_recipe[R] = x[R] * gp.Sum(I,Contains[R, I]) >= 7 * x[R]\n",
    "\n",
    "z.lo[S, I]= 0\n",
    "l.lo[:] = 0"
   ]
  },
  {
   "cell_type": "code",
   "execution_count": 27,
   "metadata": {},
   "outputs": [],
   "source": [
    "objective = gp.Sum(R, x[R]) \n",
    "\n",
    "recipe_optimization = cont.addModel(\n",
    "    name='recipe_optimization',\n",
    "    problem=gp.Problem.MIP,\n",
    "    equations=cont.getEquations(),\n",
    "    sense=gp.Sense.MAX,\n",
    "    objective=objective\n",
    ")"
   ]
  },
  {
   "cell_type": "code",
   "execution_count": 28,
   "metadata": {},
   "outputs": [
    {
     "name": "stdout",
     "output_type": "stream",
     "text": [
      "Amount of ingredients to purchase: 79\n",
      "Recipes to make 16\n"
     ]
    }
   ],
   "source": [
    "recipe_optimization.solve(options=gp.Options(time_limit= 10))\n",
    "df = z.records\n",
    "print(f\"Amount of ingredients to purchase: {len(df[df['level'] > 0])}\")\n",
    "print(f\"Recipes to make {len(x.records[x.records['level'] > 0])}\")"
   ]
  },
  {
   "cell_type": "markdown",
   "metadata": {},
   "source": [
    "# Sensitivity Analysis"
   ]
  },
  {
   "cell_type": "markdown",
   "metadata": {},
   "source": [
    "## budget sensitivity"
   ]
  },
  {
   "cell_type": "code",
   "execution_count": 29,
   "metadata": {},
   "outputs": [
    {
     "ename": "KeyboardInterrupt",
     "evalue": "",
     "output_type": "error",
     "traceback": [
      "\u001b[0;31m---------------------------------------------------------------------------\u001b[0m",
      "\u001b[0;31mKeyboardInterrupt\u001b[0m                         Traceback (most recent call last)",
      "Cell \u001b[0;32mIn[29], line 10\u001b[0m\n\u001b[1;32m      8\u001b[0m \u001b[38;5;28;01mfor\u001b[39;00m num \u001b[38;5;129;01min\u001b[39;00m \u001b[38;5;28mrange\u001b[39m(\u001b[38;5;241m50\u001b[39m, \u001b[38;5;241m500\u001b[39m):\n\u001b[1;32m      9\u001b[0m     B\u001b[38;5;241m.\u001b[39msetRecords(num)\n\u001b[0;32m---> 10\u001b[0m     recipe_optimization\u001b[38;5;241m.\u001b[39msolve(options\u001b[38;5;241m=\u001b[39mgp\u001b[38;5;241m.\u001b[39mOptions(time_limit\u001b[38;5;241m=\u001b[39m \u001b[38;5;241m10\u001b[39m))\n\u001b[1;32m     11\u001b[0m     df \u001b[38;5;241m=\u001b[39m x\u001b[38;5;241m.\u001b[39mrecords\n\u001b[1;32m     12\u001b[0m     number_recipes \u001b[38;5;241m=\u001b[39m \u001b[38;5;28mlen\u001b[39m(df[df[\u001b[38;5;124m'\u001b[39m\u001b[38;5;124mlevel\u001b[39m\u001b[38;5;124m'\u001b[39m] \u001b[38;5;241m>\u001b[39m \u001b[38;5;241m0\u001b[39m])\n",
      "File \u001b[0;32m~/anaconda3/lib/python3.11/site-packages/gamspy/_model.py:1156\u001b[0m, in \u001b[0;36mModel.solve\u001b[0;34m(self, solver, options, solver_options, model_instance_options, output, backend, client, load_symbols)\u001b[0m\n\u001b[1;32m   1137\u001b[0m options\u001b[38;5;241m.\u001b[39m_set_solver_options(\n\u001b[1;32m   1138\u001b[0m     working_directory\u001b[38;5;241m=\u001b[39m\u001b[38;5;28mself\u001b[39m\u001b[38;5;241m.\u001b[39mcontainer\u001b[38;5;241m.\u001b[39mworking_directory,\n\u001b[1;32m   1139\u001b[0m     solver\u001b[38;5;241m=\u001b[39msolver,\n\u001b[1;32m   1140\u001b[0m     problem\u001b[38;5;241m=\u001b[39m\u001b[38;5;28mself\u001b[39m\u001b[38;5;241m.\u001b[39mproblem,\n\u001b[1;32m   1141\u001b[0m     solver_options\u001b[38;5;241m=\u001b[39msolver_options,\n\u001b[1;32m   1142\u001b[0m )\n\u001b[1;32m   1144\u001b[0m runner \u001b[38;5;241m=\u001b[39m backend_factory(\n\u001b[1;32m   1145\u001b[0m     \u001b[38;5;28mself\u001b[39m\u001b[38;5;241m.\u001b[39mcontainer,\n\u001b[1;32m   1146\u001b[0m     options,\n\u001b[0;32m   (...)\u001b[0m\n\u001b[1;32m   1153\u001b[0m     load_symbols,\n\u001b[1;32m   1154\u001b[0m )\n\u001b[0;32m-> 1156\u001b[0m summary \u001b[38;5;241m=\u001b[39m runner\u001b[38;5;241m.\u001b[39mrun(relaxed_domain_mapping\u001b[38;5;241m=\u001b[39m\u001b[38;5;28;01mFalse\u001b[39;00m, gams_to_gamspy\u001b[38;5;241m=\u001b[39m\u001b[38;5;28;01mTrue\u001b[39;00m)\n\u001b[1;32m   1158\u001b[0m \u001b[38;5;28;01mif\u001b[39;00m IS_MIRO_INIT:\n\u001b[1;32m   1159\u001b[0m     miro\u001b[38;5;241m.\u001b[39m_write_default_gdx_miro(\u001b[38;5;28mself\u001b[39m\u001b[38;5;241m.\u001b[39mcontainer)\n",
      "File \u001b[0;32m~/anaconda3/lib/python3.11/site-packages/gamspy/_backend/local.py:82\u001b[0m, in \u001b[0;36mLocal.run\u001b[0;34m(self, relaxed_domain_mapping, gams_to_gamspy)\u001b[0m\n\u001b[1;32m     79\u001b[0m gams_string \u001b[38;5;241m=\u001b[39m \u001b[38;5;28mself\u001b[39m\u001b[38;5;241m.\u001b[39mpreprocess(\u001b[38;5;28mself\u001b[39m\u001b[38;5;241m.\u001b[39mcontainer\u001b[38;5;241m.\u001b[39m_gdx_in)\n\u001b[1;32m     81\u001b[0m \u001b[38;5;66;03m# Run the model\u001b[39;00m\n\u001b[0;32m---> 82\u001b[0m \u001b[38;5;28mself\u001b[39m\u001b[38;5;241m.\u001b[39mexecute_gams(gams_string, gams_to_gamspy)\n\u001b[1;32m     84\u001b[0m \u001b[38;5;66;03m# Synchronize GAMSPy with checkpoint and return a summary\u001b[39;00m\n\u001b[1;32m     85\u001b[0m summary \u001b[38;5;241m=\u001b[39m \u001b[38;5;28mself\u001b[39m\u001b[38;5;241m.\u001b[39mpostprocess(relaxed_domain_mapping, gams_to_gamspy)\n",
      "File \u001b[0;32m~/anaconda3/lib/python3.11/site-packages/gamspy/_backend/local.py:103\u001b[0m, in \u001b[0;36mLocal.execute_gams\u001b[0;34m(self, gams_string, gams_to_gamspy)\u001b[0m\n\u001b[1;32m    101\u001b[0m \u001b[38;5;28;01mtry\u001b[39;00m:\n\u001b[1;32m    102\u001b[0m     \u001b[38;5;28mself\u001b[39m\u001b[38;5;241m.\u001b[39mcontainer\u001b[38;5;241m.\u001b[39m_job \u001b[38;5;241m=\u001b[39m \u001b[38;5;28mself\u001b[39m\u001b[38;5;241m.\u001b[39mjob_name\n\u001b[0;32m--> 103\u001b[0m     \u001b[38;5;28mself\u001b[39m\u001b[38;5;241m.\u001b[39mcontainer\u001b[38;5;241m.\u001b[39m_send_job(\u001b[38;5;28mself\u001b[39m\u001b[38;5;241m.\u001b[39mjob_name, \u001b[38;5;28mself\u001b[39m\u001b[38;5;241m.\u001b[39mpf_file, \u001b[38;5;28mself\u001b[39m\u001b[38;5;241m.\u001b[39moutput)\n\u001b[1;32m    105\u001b[0m     \u001b[38;5;28;01mif\u001b[39;00m \u001b[38;5;129;01mnot\u001b[39;00m \u001b[38;5;28mself\u001b[39m\u001b[38;5;241m.\u001b[39mis_async() \u001b[38;5;129;01mand\u001b[39;00m \u001b[38;5;28mself\u001b[39m\u001b[38;5;241m.\u001b[39mmodel:\n\u001b[1;32m    106\u001b[0m         \u001b[38;5;28mself\u001b[39m\u001b[38;5;241m.\u001b[39mmodel\u001b[38;5;241m.\u001b[39m_update_model_attributes()\n",
      "File \u001b[0;32m~/anaconda3/lib/python3.11/site-packages/gamspy/_container.py:360\u001b[0m, in \u001b[0;36mContainer._send_job\u001b[0;34m(self, job_name, pf_file, output)\u001b[0m\n\u001b[1;32m    357\u001b[0m     \u001b[38;5;28mself\u001b[39m\u001b[38;5;241m.\u001b[39m_read_output(output)\n\u001b[1;32m    359\u001b[0m     \u001b[38;5;66;03m# Receive response\u001b[39;00m\n\u001b[0;32m--> 360\u001b[0m     response \u001b[38;5;241m=\u001b[39m \u001b[38;5;28mself\u001b[39m\u001b[38;5;241m.\u001b[39m_socket\u001b[38;5;241m.\u001b[39mrecv(\u001b[38;5;241m256\u001b[39m)\n\u001b[1;32m    361\u001b[0m     check_response(response, job_name)\n\u001b[1;32m    362\u001b[0m \u001b[38;5;28;01mexcept\u001b[39;00m \u001b[38;5;167;01mConnectionError\u001b[39;00m \u001b[38;5;28;01mas\u001b[39;00m e:\n",
      "\u001b[0;31mKeyboardInterrupt\u001b[0m: "
     ]
    }
   ],
   "source": [
    "import seaborn as sns\n",
    "import matplotlib.pyplot as plt \n",
    "\n",
    "amount_recipes = []\n",
    "budget = []\n",
    "loss = []\n",
    "\n",
    "for num in range(50, 500):\n",
    "    B.setRecords(num)\n",
    "    recipe_optimization.solve(options=gp.Options(time_limit= 10))\n",
    "    df = x.records\n",
    "    number_recipes = len(df[df['level'] > 0])\n",
    "    loss.append(l.records['level'].sum())\n",
    "    budget.append(num)\n",
    "    amount_recipes.append(number_recipes)\n",
    "\n",
    "import seaborn as sns\n",
    "\n",
    "sns.lineplot(x = budget, y = amount_recipes)\n",
    "plt.grid()\n"
   ]
  },
  {
   "cell_type": "markdown",
   "metadata": {},
   "source": [
    "## Variations of Problems"
   ]
  },
  {
   "cell_type": "markdown",
   "metadata": {},
   "source": [
    "Say you want to make a recipe with tomatoes\n",
    "- How can this be modeled? Adding in an equation that the amount of tomatoes has to be > 0, we can add this constraint"
   ]
  },
  {
   "cell_type": "code",
   "execution_count": null,
   "metadata": {},
   "outputs": [],
   "source": [
    "tomomatoe_equation = cont.addEquation('tomatoe_equation')\n",
    "tomomatoe_equation[:] = gp.Sum(R, A[R, 'tomatoes']) >= 0\n"
   ]
  },
  {
   "cell_type": "code",
   "execution_count": 30,
   "metadata": {},
   "outputs": [
    {
     "ename": "GamspyException",
     "evalue": "There was a compilation error. Check /var/folders/l7/ywb8q5r53j33j1lqzbzjyshm0000gn/T/tmpe14s7lfb/_9e345f22-7645-4ff9-aaf1-e699ed928827.lst for more information.\n\n=============\nError Summary\n=============\n2599  tomatoe_equation .. sum(R,A(R,\"tomatoes\")) =g= 0;\n****                 $140\n**** LINE      3 INPUT       /var/folders/l7/ywb8q5r53j33j1lqzbzjyshm0000gn/T/tmpe14s7lfb/_9e345f22-7645-4ff9-aaf1-e699ed928827.gms\n**** 140  Unknown symbol\n\n**** 1 ERROR(S)   0 WARNING(S)\n\n\nCOMPILATION TIME     =        0.001 SECONDS      5 MB  48.3.0 71b5641f DAX-DAC\n\n\nUSER: Academic User                                  G240910+0003Ac-GEN\n      lsoule@wisc.edu                                         GPA100283\n      License for teaching and research at degree granting institutions\n\n\n**** FILE SUMMARY\n\nInput      /var/folders/l7/ywb8q5r53j33j1lqzbzjyshm0000gn/T/tmpe14s7lfb/_9e345f22-7645-4ff9-aaf1-e699ed928827.gms\nOutput     /var/folders/l7/ywb8q5r53j33j1lqzbzjyshm0000gn/T/tmpe14s7lfb/_9e345f22-7645-4ff9-aaf1-e699ed928827.lst\n\n**** USER ERROR(S) ENCOUNTERED",
     "output_type": "error",
     "traceback": [
      "\u001b[0;31m---------------------------------------------------------------------------\u001b[0m",
      "\u001b[0;31mGamspyException\u001b[0m                           Traceback (most recent call last)",
      "Cell \u001b[0;32mIn[30], line 2\u001b[0m\n\u001b[1;32m      1\u001b[0m tomomatoe_equation \u001b[38;5;241m=\u001b[39m cont\u001b[38;5;241m.\u001b[39maddEquation(\u001b[38;5;124m'\u001b[39m\u001b[38;5;124mtomatoe_equation\u001b[39m\u001b[38;5;124m'\u001b[39m)\n\u001b[0;32m----> 2\u001b[0m tomomatoe_equation[:] \u001b[38;5;241m=\u001b[39m gp\u001b[38;5;241m.\u001b[39mSum(R, A[R, \u001b[38;5;124m'\u001b[39m\u001b[38;5;124mtomatoes\u001b[39m\u001b[38;5;124m'\u001b[39m]) \u001b[38;5;241m>\u001b[39m\u001b[38;5;241m=\u001b[39m \u001b[38;5;241m0\u001b[39m\n\u001b[1;32m      4\u001b[0m B\u001b[38;5;241m.\u001b[39msetRecords(\u001b[38;5;241m50\u001b[39m)\n\u001b[1;32m      6\u001b[0m recipe_optimization_tomatoes \u001b[38;5;241m=\u001b[39m cont\u001b[38;5;241m.\u001b[39maddModel(\n\u001b[1;32m      7\u001b[0m     name\u001b[38;5;241m=\u001b[39m\u001b[38;5;124m'\u001b[39m\u001b[38;5;124mrecipe_optimization_tomatoes\u001b[39m\u001b[38;5;124m'\u001b[39m,\n\u001b[1;32m      8\u001b[0m     problem\u001b[38;5;241m=\u001b[39mgp\u001b[38;5;241m.\u001b[39mProblem\u001b[38;5;241m.\u001b[39mMIP,\n\u001b[0;32m   (...)\u001b[0m\n\u001b[1;32m     11\u001b[0m     objective\u001b[38;5;241m=\u001b[39mobjective\n\u001b[1;32m     12\u001b[0m )\n",
      "File \u001b[0;32m~/anaconda3/lib/python3.11/site-packages/gamspy/_symbols/equation.py:352\u001b[0m, in \u001b[0;36mEquation.__setitem__\u001b[0;34m(self, indices, rhs)\u001b[0m\n\u001b[1;32m    348\u001b[0m domain \u001b[38;5;241m=\u001b[39m validation\u001b[38;5;241m.\u001b[39mvalidate_domain(\u001b[38;5;28mself\u001b[39m, indices)\n\u001b[1;32m    350\u001b[0m \u001b[38;5;28mself\u001b[39m\u001b[38;5;241m.\u001b[39m_set_definition(domain, rhs)\n\u001b[0;32m--> 352\u001b[0m \u001b[38;5;28mself\u001b[39m\u001b[38;5;241m.\u001b[39mcontainer\u001b[38;5;241m.\u001b[39m_synch_with_gams(gams_to_gamspy\u001b[38;5;241m=\u001b[39m\u001b[38;5;28;01mTrue\u001b[39;00m)\n\u001b[1;32m    353\u001b[0m \u001b[38;5;28mself\u001b[39m\u001b[38;5;241m.\u001b[39m_winner \u001b[38;5;241m=\u001b[39m \u001b[38;5;124m\"\u001b[39m\u001b[38;5;124mgams\u001b[39m\u001b[38;5;124m\"\u001b[39m\n",
      "File \u001b[0;32m~/anaconda3/lib/python3.11/site-packages/gamspy/_container.py:512\u001b[0m, in \u001b[0;36mContainer._synch_with_gams\u001b[0;34m(self, relaxed_domain_mapping, gams_to_gamspy)\u001b[0m\n\u001b[1;32m    506\u001b[0m \u001b[38;5;28;01mdef\u001b[39;00m \u001b[38;5;21m_synch_with_gams\u001b[39m(\n\u001b[1;32m    507\u001b[0m     \u001b[38;5;28mself\u001b[39m,\n\u001b[1;32m    508\u001b[0m     relaxed_domain_mapping: \u001b[38;5;28mbool\u001b[39m \u001b[38;5;241m=\u001b[39m \u001b[38;5;28;01mFalse\u001b[39;00m,\n\u001b[1;32m    509\u001b[0m     gams_to_gamspy: \u001b[38;5;28mbool\u001b[39m \u001b[38;5;241m=\u001b[39m \u001b[38;5;28;01mFalse\u001b[39;00m,\n\u001b[1;32m    510\u001b[0m ) \u001b[38;5;241m-\u001b[39m\u001b[38;5;241m>\u001b[39m DataFrame \u001b[38;5;241m|\u001b[39m \u001b[38;5;28;01mNone\u001b[39;00m:\n\u001b[1;32m    511\u001b[0m     runner \u001b[38;5;241m=\u001b[39m backend_factory(\u001b[38;5;28mself\u001b[39m, \u001b[38;5;28mself\u001b[39m\u001b[38;5;241m.\u001b[39m_options, output\u001b[38;5;241m=\u001b[39m\u001b[38;5;28mself\u001b[39m\u001b[38;5;241m.\u001b[39moutput)\n\u001b[0;32m--> 512\u001b[0m     summary \u001b[38;5;241m=\u001b[39m runner\u001b[38;5;241m.\u001b[39mrun(relaxed_domain_mapping, gams_to_gamspy)\n\u001b[1;32m    514\u001b[0m     \u001b[38;5;28;01mif\u001b[39;00m \u001b[38;5;28mself\u001b[39m\u001b[38;5;241m.\u001b[39m_options \u001b[38;5;129;01mand\u001b[39;00m \u001b[38;5;28mself\u001b[39m\u001b[38;5;241m.\u001b[39m_options\u001b[38;5;241m.\u001b[39mseed \u001b[38;5;129;01mis\u001b[39;00m \u001b[38;5;129;01mnot\u001b[39;00m \u001b[38;5;28;01mNone\u001b[39;00m:\n\u001b[1;32m    515\u001b[0m         \u001b[38;5;66;03m# Required for correct seeding. Seed can only be set in the first run.\u001b[39;00m\n\u001b[1;32m    516\u001b[0m         \u001b[38;5;28mself\u001b[39m\u001b[38;5;241m.\u001b[39m_options\u001b[38;5;241m.\u001b[39mseed \u001b[38;5;241m=\u001b[39m \u001b[38;5;28;01mNone\u001b[39;00m\n",
      "File \u001b[0;32m~/anaconda3/lib/python3.11/site-packages/gamspy/_backend/local.py:82\u001b[0m, in \u001b[0;36mLocal.run\u001b[0;34m(self, relaxed_domain_mapping, gams_to_gamspy)\u001b[0m\n\u001b[1;32m     79\u001b[0m gams_string \u001b[38;5;241m=\u001b[39m \u001b[38;5;28mself\u001b[39m\u001b[38;5;241m.\u001b[39mpreprocess(\u001b[38;5;28mself\u001b[39m\u001b[38;5;241m.\u001b[39mcontainer\u001b[38;5;241m.\u001b[39m_gdx_in)\n\u001b[1;32m     81\u001b[0m \u001b[38;5;66;03m# Run the model\u001b[39;00m\n\u001b[0;32m---> 82\u001b[0m \u001b[38;5;28mself\u001b[39m\u001b[38;5;241m.\u001b[39mexecute_gams(gams_string, gams_to_gamspy)\n\u001b[1;32m     84\u001b[0m \u001b[38;5;66;03m# Synchronize GAMSPy with checkpoint and return a summary\u001b[39;00m\n\u001b[1;32m     85\u001b[0m summary \u001b[38;5;241m=\u001b[39m \u001b[38;5;28mself\u001b[39m\u001b[38;5;241m.\u001b[39mpostprocess(relaxed_domain_mapping, gams_to_gamspy)\n",
      "File \u001b[0;32m~/anaconda3/lib/python3.11/site-packages/gamspy/_backend/local.py:117\u001b[0m, in \u001b[0;36mLocal.execute_gams\u001b[0;34m(self, gams_string, gams_to_gamspy)\u001b[0m\n\u001b[1;32m    110\u001b[0m     message \u001b[38;5;241m=\u001b[39m _customize_exception(\n\u001b[1;32m    111\u001b[0m         \u001b[38;5;28mself\u001b[39m\u001b[38;5;241m.\u001b[39moptions,\n\u001b[1;32m    112\u001b[0m         \u001b[38;5;28mself\u001b[39m\u001b[38;5;241m.\u001b[39mjob_name,\n\u001b[1;32m    113\u001b[0m         exception\u001b[38;5;241m.\u001b[39mreturn_code,\n\u001b[1;32m    114\u001b[0m     )\n\u001b[1;32m    116\u001b[0m     exception\u001b[38;5;241m.\u001b[39margs \u001b[38;5;241m=\u001b[39m (exception\u001b[38;5;241m.\u001b[39mmessage \u001b[38;5;241m+\u001b[39m message,)\n\u001b[0;32m--> 117\u001b[0m     \u001b[38;5;28;01mraise\u001b[39;00m exception\n\u001b[1;32m    118\u001b[0m \u001b[38;5;28;01mfinally\u001b[39;00m:\n\u001b[1;32m    119\u001b[0m     \u001b[38;5;28mself\u001b[39m\u001b[38;5;241m.\u001b[39mcontainer\u001b[38;5;241m.\u001b[39m_unsaved_statements \u001b[38;5;241m=\u001b[39m []\n",
      "File \u001b[0;32m~/anaconda3/lib/python3.11/site-packages/gamspy/_backend/local.py:103\u001b[0m, in \u001b[0;36mLocal.execute_gams\u001b[0;34m(self, gams_string, gams_to_gamspy)\u001b[0m\n\u001b[1;32m    101\u001b[0m \u001b[38;5;28;01mtry\u001b[39;00m:\n\u001b[1;32m    102\u001b[0m     \u001b[38;5;28mself\u001b[39m\u001b[38;5;241m.\u001b[39mcontainer\u001b[38;5;241m.\u001b[39m_job \u001b[38;5;241m=\u001b[39m \u001b[38;5;28mself\u001b[39m\u001b[38;5;241m.\u001b[39mjob_name\n\u001b[0;32m--> 103\u001b[0m     \u001b[38;5;28mself\u001b[39m\u001b[38;5;241m.\u001b[39mcontainer\u001b[38;5;241m.\u001b[39m_send_job(\u001b[38;5;28mself\u001b[39m\u001b[38;5;241m.\u001b[39mjob_name, \u001b[38;5;28mself\u001b[39m\u001b[38;5;241m.\u001b[39mpf_file, \u001b[38;5;28mself\u001b[39m\u001b[38;5;241m.\u001b[39moutput)\n\u001b[1;32m    105\u001b[0m     \u001b[38;5;28;01mif\u001b[39;00m \u001b[38;5;129;01mnot\u001b[39;00m \u001b[38;5;28mself\u001b[39m\u001b[38;5;241m.\u001b[39mis_async() \u001b[38;5;129;01mand\u001b[39;00m \u001b[38;5;28mself\u001b[39m\u001b[38;5;241m.\u001b[39mmodel:\n\u001b[1;32m    106\u001b[0m         \u001b[38;5;28mself\u001b[39m\u001b[38;5;241m.\u001b[39mmodel\u001b[38;5;241m.\u001b[39m_update_model_attributes()\n",
      "File \u001b[0;32m~/anaconda3/lib/python3.11/site-packages/gamspy/_container.py:361\u001b[0m, in \u001b[0;36mContainer._send_job\u001b[0;34m(self, job_name, pf_file, output)\u001b[0m\n\u001b[1;32m    359\u001b[0m     \u001b[38;5;66;03m# Receive response\u001b[39;00m\n\u001b[1;32m    360\u001b[0m     response \u001b[38;5;241m=\u001b[39m \u001b[38;5;28mself\u001b[39m\u001b[38;5;241m.\u001b[39m_socket\u001b[38;5;241m.\u001b[39mrecv(\u001b[38;5;241m256\u001b[39m)\n\u001b[0;32m--> 361\u001b[0m     check_response(response, job_name)\n\u001b[1;32m    362\u001b[0m \u001b[38;5;28;01mexcept\u001b[39;00m \u001b[38;5;167;01mConnectionError\u001b[39;00m \u001b[38;5;28;01mas\u001b[39;00m e:\n\u001b[1;32m    363\u001b[0m     \u001b[38;5;28;01mraise\u001b[39;00m FatalError(\n\u001b[1;32m    364\u001b[0m         \u001b[38;5;124mf\u001b[39m\u001b[38;5;124m\"\u001b[39m\u001b[38;5;124mThere was an error while communicating with GAMS server: \u001b[39m\u001b[38;5;132;01m{\u001b[39;00me\u001b[38;5;132;01m}\u001b[39;00m\u001b[38;5;124m\"\u001b[39m,\n\u001b[1;32m    365\u001b[0m     ) \u001b[38;5;28;01mfrom\u001b[39;00m \u001b[38;5;21;01me\u001b[39;00m\n",
      "File \u001b[0;32m~/anaconda3/lib/python3.11/site-packages/gamspy/_container.py:182\u001b[0m, in \u001b[0;36mcheck_response\u001b[0;34m(response, job_name)\u001b[0m\n\u001b[1;32m    179\u001b[0m \u001b[38;5;28;01mexcept\u001b[39;00m \u001b[38;5;167;01mIndexError\u001b[39;00m:  \u001b[38;5;66;03m# pragma: no cover\u001b[39;00m\n\u001b[1;32m    180\u001b[0m     info \u001b[38;5;241m=\u001b[39m \u001b[38;5;124m\"\u001b[39m\u001b[38;5;124m\"\u001b[39m\n\u001b[0;32m--> 182\u001b[0m \u001b[38;5;28;01mraise\u001b[39;00m GamspyException(\n\u001b[1;32m    183\u001b[0m     \u001b[38;5;124mf\u001b[39m\u001b[38;5;124m'\u001b[39m\u001b[38;5;132;01m{\u001b[39;00minfo\u001b[38;5;132;01m}\u001b[39;00m\u001b[38;5;124m Check \u001b[39m\u001b[38;5;132;01m{\u001b[39;00mjob_name\u001b[38;5;250m \u001b[39m\u001b[38;5;241m+\u001b[39m\u001b[38;5;250m \u001b[39m\u001b[38;5;124m\"\u001b[39m\u001b[38;5;124m.lst\u001b[39m\u001b[38;5;124m\"\u001b[39m\u001b[38;5;132;01m}\u001b[39;00m\u001b[38;5;124m for more information.\u001b[39m\u001b[38;5;124m'\u001b[39m,\n\u001b[1;32m    184\u001b[0m     return_code,\n\u001b[1;32m    185\u001b[0m )\n",
      "\u001b[0;31mGamspyException\u001b[0m: There was a compilation error. Check /var/folders/l7/ywb8q5r53j33j1lqzbzjyshm0000gn/T/tmpe14s7lfb/_9e345f22-7645-4ff9-aaf1-e699ed928827.lst for more information.\n\n=============\nError Summary\n=============\n2599  tomatoe_equation .. sum(R,A(R,\"tomatoes\")) =g= 0;\n****                 $140\n**** LINE      3 INPUT       /var/folders/l7/ywb8q5r53j33j1lqzbzjyshm0000gn/T/tmpe14s7lfb/_9e345f22-7645-4ff9-aaf1-e699ed928827.gms\n**** 140  Unknown symbol\n\n**** 1 ERROR(S)   0 WARNING(S)\n\n\nCOMPILATION TIME     =        0.001 SECONDS      5 MB  48.3.0 71b5641f DAX-DAC\n\n\nUSER: Academic User                                  G240910+0003Ac-GEN\n      lsoule@wisc.edu                                         GPA100283\n      License for teaching and research at degree granting institutions\n\n\n**** FILE SUMMARY\n\nInput      /var/folders/l7/ywb8q5r53j33j1lqzbzjyshm0000gn/T/tmpe14s7lfb/_9e345f22-7645-4ff9-aaf1-e699ed928827.gms\nOutput     /var/folders/l7/ywb8q5r53j33j1lqzbzjyshm0000gn/T/tmpe14s7lfb/_9e345f22-7645-4ff9-aaf1-e699ed928827.lst\n\n**** USER ERROR(S) ENCOUNTERED"
     ]
    }
   ],
   "source": [
    "tomomatoe_equation = cont.addEquation('tomatoe_equation')\n",
    "tomomatoe_equation[:] = gp.Sum(R, A[R, 'tomatoes']) >= 0\n",
    "\n",
    "B.setRecords(50)\n",
    "\n",
    "recipe_optimization_tomatoes = cont.addModel(\n",
    "    name='recipe_optimization_tomatoes',\n",
    "    problem=gp.Problem.MIP,\n",
    "    equations=cont.getEquations(),\n",
    "    sense=gp.Sense.MAX,\n",
    "    objective=objective\n",
    ")\n",
    "recipe_optimization_tomatoes.solve(options=gp.Options(time_limit= 10))"
   ]
  },
  {
   "cell_type": "code",
   "execution_count": null,
   "metadata": {},
   "outputs": [],
   "source": [
    "recipe_optimization.solve(options=gp.Options(time_limit= 10))"
   ]
  }
 ],
 "metadata": {
  "kernelspec": {
   "display_name": "base",
   "language": "python",
   "name": "python3"
  },
  "language_info": {
   "codemirror_mode": {
    "name": "ipython",
    "version": 3
   },
   "file_extension": ".py",
   "mimetype": "text/x-python",
   "name": "python",
   "nbconvert_exporter": "python",
   "pygments_lexer": "ipython3",
   "version": "3.11.9"
  }
 },
 "nbformat": 4,
 "nbformat_minor": 2
}
