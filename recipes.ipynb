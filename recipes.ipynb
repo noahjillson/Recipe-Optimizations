{
 "cells": [
  {
   "cell_type": "code",
   "execution_count": 163,
   "metadata": {},
   "outputs": [],
   "source": [
    "import numpy as np\n",
    "import json\n",
    "import pandas as pd"
   ]
  },
  {
   "cell_type": "code",
   "execution_count": 164,
   "metadata": {},
   "outputs": [],
   "source": [
    "with open('./train.json', 'r') as f:\n",
    "    recipes = json.load(f)\n",
    "\n",
    "dists = pd.read_csv('ingredient_distributions.csv')"
   ]
  },
  {
   "cell_type": "code",
   "execution_count": 165,
   "metadata": {},
   "outputs": [],
   "source": [
    "# dists.columns = [column.strip() for column in dists.columns]"
   ]
  },
  {
   "cell_type": "code",
   "execution_count": 166,
   "metadata": {},
   "outputs": [
    {
     "data": {
      "text/plain": [
       "ingredient    cabbage\n",
       "mean              1.1\n",
       "variance          0.7\n",
       "metric             lb\n",
       "Name: 64, dtype: object"
      ]
     },
     "execution_count": 166,
     "metadata": {},
     "output_type": "execute_result"
    }
   ],
   "source": [
    "dists[dists['ingredient'].str.contains('cabbage')].iloc[0]"
   ]
  },
  {
   "cell_type": "code",
   "execution_count": 167,
   "metadata": {},
   "outputs": [],
   "source": [
    "for r in recipes:\n",
    "    quantities = []\n",
    "    for i in r['ingredients']:\n",
    "        distribution = dists[dists['ingredient'].str.contains(i)]\n",
    "        q = 0\n",
    "        if len(distribution) > 0: \n",
    "            mean = distribution['mean'].values[0]\n",
    "            variance = distribution['variance'].values[0]\n",
    "        else:\n",
    "            q=1\n",
    "        while q <= 0:\n",
    "            q = np.random.normal(mean, variance)\n",
    "        quantities.append(f'{q:.2f}')\n",
    "    r['quantities'] = quantities\n",
    "    "
   ]
  },
  {
   "cell_type": "code",
   "execution_count": 168,
   "metadata": {},
   "outputs": [],
   "source": [
    "with open('./augmented_recipes.json', '+w') as f:\n",
    "    json.dump(recipes, f, ensure_ascii=False, indent=4)"
   ]
  },
  {
   "cell_type": "code",
   "execution_count": 170,
   "metadata": {},
   "outputs": [
    {
     "name": "stdout",
     "output_type": "stream",
     "text": [
      "0.40358845395534193\n",
      "1.2949250791874671\n",
      "-0.4590459912501978\n",
      "-0.1918683516958191\n",
      "-0.6103393711154512\n",
      "0.869451899108197\n",
      "-0.4759525855681083\n",
      "0.5685585031620156\n",
      "-0.08162035111142336\n",
      "-0.21406696726194877\n"
     ]
    }
   ],
   "source": [
    "for i in range(10):\n",
    "    print(np.random.normal(.23, .44))\n"
   ]
  },
  {
   "cell_type": "code",
   "execution_count": null,
   "metadata": {},
   "outputs": [],
   "source": []
  }
 ],
 "metadata": {
  "language_info": {
   "name": "python"
  },
  "orig_nbformat": 4
 },
 "nbformat": 4,
 "nbformat_minor": 2
}
