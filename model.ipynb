{
 "cells": [
  {
   "cell_type": "code",
   "execution_count": 2,
   "metadata": {},
   "outputs": [],
   "source": [
    "import pandas as pd\n",
    "import numpy as np\n",
    "import gamspy as gp \n",
    "import gamspy.math as gpm"
   ]
  },
  {
   "cell_type": "markdown",
   "metadata": {},
   "source": [
    "## Set Definition"
   ]
  },
  {
   "cell_type": "code",
   "execution_count": null,
   "metadata": {},
   "outputs": [],
   "source": [
    "m = gp.Container()\n",
    "\n",
    "# PLACEHOLDERS: Replace with actual sets once data is cleaned and the total number of recipes and ingredients are known\n",
    "I = gp.Set(m, 'I', description=\"A set containing all of the valid ingredients\")\n",
    "R = gp.Set(m, 'R', description=\"A set containing all of the recipes that can be made\")"
   ]
  },
  {
   "cell_type": "markdown",
   "metadata": {},
   "source": [
    "## Parameters"
   ]
  },
  {
   "cell_type": "code",
   "execution_count": null,
   "metadata": {},
   "outputs": [],
   "source": [
    "C = gp.Parameter(m, 'C', domain=[I], description=\"Cost per unit of each of the ingredients\")\n",
    "A = gp.Parameter(m, 'A', domain=[I, R], description=\"Amount of ingredient i required in recipe r\")\n",
    "B = gp.Parameter(m, 'B', description=\"Budget to purchase ingredients\")\n",
    "a = gp.Parameter(m, 'a', description=\"Trade off parameter used to weight the regularizer\")"
   ]
  },
  {
   "cell_type": "markdown",
   "metadata": {},
   "source": [
    "## Variables"
   ]
  },
  {
   "cell_type": "code",
   "execution_count": null,
   "metadata": {},
   "outputs": [],
   "source": [
    "z = gp.Variable(m, 'z', \"free\", domain=[I], description=\"Amount of ingredient i purchased\")\n",
    "x = gp.Variable(m, 'x', \"binary\", domain=[R], description=\"Indicator variable to make recipe r\")\n",
    "l = gp.Variable(m, 'l', \"free\", domain=[I], description=\"Leftover ingredients after all recipes are made\")"
   ]
  },
  {
   "cell_type": "markdown",
   "metadata": {},
   "source": [
    "## Equations"
   ]
  },
  {
   "cell_type": "code",
   "execution_count": null,
   "metadata": {},
   "outputs": [],
   "source": [
    "budget = gp.Equation(m, 'budget', 'regular',\n",
    "                        description=\"Constrains the total money spent on ingredients to be within the budget\")\n",
    "budget[:] = gp.Sum(I, C[I] * z[I]) <= B\n",
    "\n",
    "ingredient_amounts = gp.Equation(m, 'ingredient_amounts', 'regular', domain=[I],\n",
    "                              description=\"Ensures enough ingredients are purchased to satisfy the selected recipes\")\n",
    "ingredient_amounts[I] = gp.Sum(R, A[I,R] * x[R]) <= z[I]\n",
    "\n",
    "waste = gp.Equation(m, 'waste', 'regular', domain=[I],\n",
    "                          description=\"Sets the leftover variable equal to the amount of unused ingredients\")\n",
    "waste[I] = l[I] == z[I] -  gp.Sum(R, A[I,R] * x[R])\n",
    "\n",
    "tot_recipes = gp.Equation(m, 'tot_recipes', description=\"Ensures enough recipes for a weeks worth of dinner can be made\")\n",
    "tot_recipes[:] = gp.Sum(R, x[R]) >= 7"
   ]
  },
  {
   "cell_type": "markdown",
   "metadata": {},
   "source": [
    "## Model"
   ]
  },
  {
   "cell_type": "code",
   "execution_count": null,
   "metadata": {},
   "outputs": [],
   "source": [
    "objective = gp.Sum(R, x[R]) - a * gp.Sum(I, gpm.sqr(l))\n",
    "\n",
    "model = gp.Model(\n",
    "    container=m,\n",
    "    name='model',\n",
    "    problem=gp.Problem.MIP,\n",
    "    equations=m.getEquations(),\n",
    "    sense=gp.Sense.MAX,\n",
    "    objective=objective\n",
    ")"
   ]
  }
 ],
 "metadata": {
  "kernelspec": {
   "display_name": "Python 3",
   "language": "python",
   "name": "python3"
  },
  "language_info": {
   "codemirror_mode": {
    "name": "ipython",
    "version": 3
   },
   "file_extension": ".py",
   "mimetype": "text/x-python",
   "name": "python",
   "nbconvert_exporter": "python",
   "pygments_lexer": "ipython3",
   "version": "3.11.0"
  },
  "orig_nbformat": 4
 },
 "nbformat": 4,
 "nbformat_minor": 2
}
